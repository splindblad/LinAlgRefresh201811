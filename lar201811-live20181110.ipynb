{
 "cells": [
  {
   "cell_type": "markdown",
   "metadata": {},
   "source": [
    "<center>\n",
    "<h1>Refreshing Your Linear Algebra Knowledge with NumPy, Part II\n",
    "</h1>\n",
    "\n",
    "<h2>Steve Lindblad<br>\n",
    "</H2>\n",
    "\n",
    "<H3>DataSciPy Meetup<br>\n",
    "Veritas Technologies LLC<br>\n",
    "Roseville, MN<br>\n",
    "November 10, 2018<br>\n",
    " \n",
    "</H3>\n",
    "</center>"
   ]
  },
  {
   "cell_type": "markdown",
   "metadata": {},
   "source": [
    "\\[SL (11/10/2018): This is the notebook as produced live from my talk today. Note: \"Part I\" was my presentation of similar material at the 7/12/2018 PyMNtos meeting.\n",
    "It consisted essentially of the same material below but ended just before the\n",
    "\"LU Decomposition\" section.\\]"
   ]
  },
  {
   "cell_type": "code",
   "execution_count": null,
   "metadata": {},
   "outputs": [],
   "source": []
  },
  {
   "cell_type": "markdown",
   "metadata": {
    "slideshow": {
     "slide_type": "slide"
    }
   },
   "source": [
    "# Example\n",
    "\n",
    "System of 3 linear equations in 3 unknowns (variables):\n",
    "\n",
    "\\begin{eqnarray*}\n",
    "2x + 2y + 4z &=& 0 \\\\\n",
    "      y - 5z &=& 13 \\\\\n",
    "     3y + 4z &=& 1 \\\\\n",
    "\\end{eqnarray*}\n",
    "\n",
    "Goal is to find the values of $x$, $y$, and $z$ that make all three equations true simultaneously."
   ]
  },
  {
   "cell_type": "markdown",
   "metadata": {},
   "source": [
    "One way to solve is to manipulate the equations directly:\n",
    "\n",
    "(1) Subtract 3 times the second equation from the third to eliminate $y$ and solve for $z$:\n",
    "$$\\begin{array}{rrrrr}\n",
    "     3y &+& 4z &=& 1 \\\\\n",
    "    -3y &+& 15z &=& -39 \\\\ \n",
    "     \\hline{}\n",
    "     & & 19z &=& -38 \\\\\n",
    "     & & z &=& -2 \\\\\n",
    "\\end{array}$$\n",
    "\n",
    "(2) Plug $z=-2$ back into the second equation to solve for $y$:\n",
    "\\begin{eqnarray*}\n",
    "y - 5(-2) & = & 13 \\\\\n",
    "y + 10 & = & 13 \\\\\n",
    "y  & = & 3 \n",
    "\\end{eqnarray*}\n",
    "\n",
    "(3) Plug $y=3$ and $z=-2$ into the first equation to solve for $x$:\n",
    "\\begin{eqnarray*}\n",
    "2x + 2(3) + 4(-2) & = & 0 \\\\\n",
    "      2x & = & 2 \\\\\n",
    "     x & = & 1\n",
    "\\end{eqnarray*}\n",
    "\n"
   ]
  },
  {
   "cell_type": "markdown",
   "metadata": {},
   "source": [
    "## Disadvantage\n",
    "\n",
    "Above approach is much more difficult with larger systems of equations:\n",
    "\n",
    "\\begin{eqnarray*}\n",
    " 2v + 7w -  x + 3y +  6z & = & 24 \\\\\n",
    " 3v + 3w +  x -  y +  5z & = & {-1} \\\\\n",
    "  v -  w - 2x - 3y -  8z & = & {-16} \\\\\n",
    " 4v + 5w - 3x + 7y + 10z & = & 52 \\\\\n",
    "-5v + 3w - 9x - 9y +   z & = & 25\n",
    "\\end{eqnarray*}\n",
    "\n"
   ]
  },
  {
   "cell_type": "markdown",
   "metadata": {},
   "source": [
    "## Power of matrix notation\n",
    "\n",
    "$$\\begin{array}{ccccc}\n",
    "\\left[ \n",
    "\\begin{array}{rrrrr}\n",
    " 2 &  7 & -1 &  3 &  6 \\\\\n",
    " 3 &  3 &  1 & -1 &  5 \\\\\n",
    " 1 & -1 & -2 & -3 & -8 \\\\\n",
    " 4 &  5 & -3 &  7 & 10 \\\\\n",
    "-5 &  3 & -9 & -9 &  1 \\\\\n",
    "\\end{array}\\right]\n",
    "& \\times &\n",
    "\\left[\\begin{array}{c}\n",
    "v \\\\\n",
    "w \\\\\n",
    "x \\\\\n",
    "y \\\\\n",
    "z \\\\\n",
    "\\end{array}\\right]\n",
    "& = &\n",
    "\\left[\\begin{array}{r}\n",
    " 24\\\\\n",
    " -1\\\\\n",
    "-16\\\\\n",
    " 52\\\\\n",
    " 25\\\\\n",
    "\\end{array}\n",
    "\\right]\\\\\n",
    "A & \\times & t & = & d \\\\\n",
    "\\end{array}\n",
    "$$\n"
   ]
  },
  {
   "cell_type": "markdown",
   "metadata": {},
   "source": [
    "# Using Matrix Techniques to Solve a Linear System\n",
    "\n",
    "First, let's first return to the original system:\n",
    "\n",
    "\\begin{eqnarray*}\n",
    "2x + 2y + 4z & = & 0 \\\\\n",
    "      y - 5z & = & 13 \\\\\n",
    "     3y + 4z & = & 1 \n",
    "\\end{eqnarray*}\n",
    "\n",
    "or\n",
    "\n",
    "$$\\begin{array}{cccc}\n",
    "\\left[ \n",
    "\\begin{array}{rrr}\n",
    " 2 & 2 &  4 \\\\\n",
    " 0 & 1 & -5 \\\\\n",
    " 0 & 3 &  4 \\\\\n",
    "\\end{array}\\right]\n",
    "&\n",
    "\\left[\\begin{array}{c}\n",
    "x \\\\\n",
    "y \\\\\n",
    "z \\\\\n",
    "\\end{array}\\right]\n",
    "& = &\n",
    "\\left[\\begin{array}{r}\n",
    " 0\\\\\n",
    "13\\\\\n",
    " 1\\\\\n",
    "\\end{array}\n",
    "\\right] \\\\\n",
    "A & t &  & d \\\\\n",
    "\\end{array}$$\n",
    "\n",
    "\n"
   ]
  },
  {
   "cell_type": "markdown",
   "metadata": {},
   "source": [
    "## Step 0\n",
    "\n",
    "Form the __augmented matrix__:\n",
    "\n",
    "$$\\left[ \n",
    "\\begin{array}{rrr:r}\n",
    " 2 & 2 &  4 & 0\\\\\n",
    " 0 & 1 & -5 & 13\\\\\n",
    " 0 & 3 &  4 & 1\\\\\n",
    "\\end{array}\\right]\n",
    "$$\n"
   ]
  },
  {
   "cell_type": "markdown",
   "metadata": {},
   "source": [
    "### Enter data into Python"
   ]
  },
  {
   "cell_type": "code",
   "execution_count": 2,
   "metadata": {},
   "outputs": [],
   "source": [
    "import numpy as np"
   ]
  },
  {
   "cell_type": "code",
   "execution_count": 3,
   "metadata": {},
   "outputs": [],
   "source": [
    "A = np.matrix(\"2 2 4; 0 1 -5; 0 3 4\")"
   ]
  },
  {
   "cell_type": "code",
   "execution_count": 4,
   "metadata": {},
   "outputs": [],
   "source": [
    "d = np.mat(\"0; 13; 1\")"
   ]
  },
  {
   "cell_type": "code",
   "execution_count": 5,
   "metadata": {},
   "outputs": [
    {
     "data": {
      "text/plain": [
       "matrix([[ 2,  2,  4],\n",
       "        [ 0,  1, -5],\n",
       "        [ 0,  3,  4]])"
      ]
     },
     "execution_count": 5,
     "metadata": {},
     "output_type": "execute_result"
    }
   ],
   "source": [
    "A"
   ]
  },
  {
   "cell_type": "code",
   "execution_count": 6,
   "metadata": {},
   "outputs": [
    {
     "data": {
      "text/plain": [
       "matrix([[ 0],\n",
       "        [13],\n",
       "        [ 1]])"
      ]
     },
     "execution_count": 6,
     "metadata": {},
     "output_type": "execute_result"
    }
   ],
   "source": [
    "d"
   ]
  },
  {
   "cell_type": "code",
   "execution_count": 7,
   "metadata": {},
   "outputs": [],
   "source": [
    "M = np.hstack( (A,d) )"
   ]
  },
  {
   "cell_type": "code",
   "execution_count": 8,
   "metadata": {},
   "outputs": [
    {
     "data": {
      "text/plain": [
       "matrix([[ 2,  2,  4,  0],\n",
       "        [ 0,  1, -5, 13],\n",
       "        [ 0,  3,  4,  1]])"
      ]
     },
     "execution_count": 8,
     "metadata": {},
     "output_type": "execute_result"
    }
   ],
   "source": [
    "M"
   ]
  },
  {
   "cell_type": "markdown",
   "metadata": {},
   "source": [
    "### Goal\n",
    "\n",
    "Given the augmented matrix\n",
    "$$\\left[ \n",
    "\\begin{array}{rrr:r}\n",
    " 2 & 2 &  4 & 0\\\\\n",
    " 0 & 1 & -5 & 13\\\\\n",
    " 0 & 3 &  4 & 1\\\\\n",
    "\\end{array}\\right]\n",
    "$$\n",
    "\n",
    "we want to perform __elementary row operations__ (Gaussian elimination) to transform the above into an equivalent matrix of the the following form, from which the solution can be read:\n",
    "\n",
    "$$\\left[ \n",
    "\\begin{array}{rrr:r}\n",
    " 1 & 0 & 0 & ?\\\\\n",
    " 0 & 1 & 0 & ?\\\\\n",
    " 0 & 0 & 1 & ?\\\\\n",
    "\\end{array}\\right]\n",
    "$$\n",
    "or\n",
    "$$\\left[ \n",
    "\\begin{array}{rrr}\n",
    " 1 & 0 & 0 \\\\\n",
    " 0 & 1 & 0 \\\\\n",
    " 0 & 0 & 1 \\\\\n",
    "\\end{array}\\right]\n",
    "\\;\n",
    "\\left[\\begin{array}{c}\n",
    "x \\\\\n",
    "y \\\\\n",
    "z \\\\\n",
    "\\end{array}\\right]\n",
    "\\;=\\;\n",
    "\\left[\\begin{array}{r}\n",
    " ?\\\\\n",
    " ?\\\\\n",
    " ?\\\\\n",
    "\\end{array}\n",
    "\\right]\n",
    "$$\n",
    "or\n",
    "$$\\left[\\begin{array}{c}\n",
    "x \\\\\n",
    "y \\\\\n",
    "z \\\\\n",
    "\\end{array}\\right]\n",
    "\\;=\\;\n",
    "\\left[\\begin{array}{r}\n",
    " ?\\\\\n",
    " ?\\\\\n",
    " ?\\\\\n",
    "\\end{array}\n",
    "\\right]\n",
    "$$\n"
   ]
  },
  {
   "cell_type": "markdown",
   "metadata": {},
   "source": [
    "### Elementary row operations (Gaussian elimination)\n",
    "\n",
    "* __multiply__ a row by a non-zero scalar\n",
    "* __add to__ one row a scalar multiple of another row\n",
    "* __interchange__ of two rows\n",
    "\n"
   ]
  },
  {
   "cell_type": "markdown",
   "metadata": {},
   "source": [
    "## Step 1\n",
    "\n",
    "First step is multiply the first row by $\\frac{1}{2}$ to get a $1$ in the first column:\n",
    "\n",
    "$$\n",
    "\\left[ \n",
    "\\begin{array}{rrrr}\n",
    " 2 & 2 &  4 & 0\\\\\n",
    " 0 & 1 & -5 & 13\\\\\n",
    " 0 & 3 &  4 & 1\n",
    "\\end{array}\\right] \\;\\longrightarrow\\;\n",
    "\\left[ \n",
    "\\begin{array}{rrrr}\n",
    " 1 & 1 &  2 & 0\\\\\n",
    " 0 & 1 & -5 & 13\\\\\n",
    " 0 & 3 &  4 & 1\n",
    "\\end{array}\\right]\n",
    "$$\n",
    "\n",
    "\n"
   ]
  },
  {
   "cell_type": "markdown",
   "metadata": {},
   "source": [
    "### Step 1 as a matrix multiplication\n",
    "\n",
    "The idea of \"multiply the first row by ½\" can be expressed as a matrix multiplication:\n",
    " \n",
    "$$\\left[ \n",
    "\\begin{array}{rrr}\n",
    " \\frac{1}{2} & 0 &  0\\\\\n",
    " 0 & 1 & 0 \\\\\n",
    " 0 & 0 & 1 \n",
    "\\end{array}\\right]\n",
    "\\left[ \n",
    "\\begin{array}{rrrr}\n",
    " 2 & 2 &  4 & 0\\\\\n",
    " 0 & 1 & -5 & 13\\\\\n",
    " 0 & 3 &  4 & 1\n",
    "\\end{array}\\right]=\\left[ \n",
    "\\begin{array}{rrrr}\n",
    " 1 & 1 &  2 & 0\\\\\n",
    " 0 & 1 & -5 & 13\\\\\n",
    " 0 & 3 &  4 & 1\n",
    "\\end{array}\\right]\n",
    "$$\n",
    "\n",
    "Matrix on the left, an identity matrix with a small adjustment, is a __elementary matrix__.\n"
   ]
  },
  {
   "cell_type": "markdown",
   "metadata": {},
   "source": [
    "### Create a Python function to return the elementary matrix:"
   ]
  },
  {
   "cell_type": "code",
   "execution_count": 9,
   "metadata": {},
   "outputs": [],
   "source": [
    "def scalerow(r, α, n=3):\n",
    "    \"\"\"Elementary matrix to multiply row r by the scalar α, \n",
    "when multiplied on the left of a target matrix of n rows.\"\"\"\n",
    "    E = np.asmatrix(np.eye(n))\n",
    "    E[r,r] = α\n",
    "    return E"
   ]
  },
  {
   "cell_type": "code",
   "execution_count": 12,
   "metadata": {},
   "outputs": [
    {
     "data": {
      "text/plain": [
       "matrix([[0.5, 0. , 0. ],\n",
       "        [0. , 1. , 0. ],\n",
       "        [0. , 0. , 1. ]])"
      ]
     },
     "execution_count": 12,
     "metadata": {},
     "output_type": "execute_result"
    }
   ],
   "source": [
    "E1 = scalerow(0, .5); E1"
   ]
  },
  {
   "cell_type": "code",
   "execution_count": 13,
   "metadata": {},
   "outputs": [
    {
     "data": {
      "text/plain": [
       "matrix([[ 1.,  1.,  2.,  0.],\n",
       "        [ 0.,  1., -5., 13.],\n",
       "        [ 0.,  3.,  4.,  1.]])"
      ]
     },
     "execution_count": 13,
     "metadata": {},
     "output_type": "execute_result"
    }
   ],
   "source": [
    "E1*M"
   ]
  },
  {
   "cell_type": "code",
   "execution_count": null,
   "metadata": {},
   "outputs": [],
   "source": []
  },
  {
   "cell_type": "markdown",
   "metadata": {},
   "source": [
    "\\[SL (11/10/2018): The following was in response to a question during the talk.\n",
    "This confirms that np.matrix() can be used in place of np.asmatrix() to convert\n",
    "a data array to a matrix.\\]"
   ]
  },
  {
   "cell_type": "code",
   "execution_count": 11,
   "metadata": {},
   "outputs": [
    {
     "data": {
      "text/plain": [
       "matrix([[1., 0., 0.],\n",
       "        [0., 1., 0.],\n",
       "        [0., 0., 1.]])"
      ]
     },
     "execution_count": 11,
     "metadata": {},
     "output_type": "execute_result"
    }
   ],
   "source": [
    "np.matrix(np.eye(3))"
   ]
  },
  {
   "cell_type": "code",
   "execution_count": null,
   "metadata": {},
   "outputs": [],
   "source": []
  },
  {
   "cell_type": "code",
   "execution_count": null,
   "metadata": {},
   "outputs": [],
   "source": []
  },
  {
   "cell_type": "markdown",
   "metadata": {},
   "source": [
    "## Step 2\n",
    "Next, subtract 3 times row 1 from row 2.\n",
    "\n",
    "$$\\left[ \n",
    "\\begin{array}{rrr}\n",
    " 1 & ? & ?\\\\\n",
    " ? & 1 & ? \\\\\n",
    " ? & ? & 1 \\\\\n",
    "\\end{array}\\right]\n",
    "\\left[ \n",
    "\\begin{array}{rrrr}\n",
    " 1 & 1 &  2 & 0\\\\\n",
    " 0 & 1 & -5 & 13\\\\\n",
    " 0 & 3 &  4 & 1\\\\\n",
    "\\end{array}\\right]=\\left[ \n",
    "\\begin{array}{rrrr}\n",
    " 1 & 1 &  2 & 0\\\\\n",
    " 0 & 1 & -5 & 13\\\\\n",
    " 0 & 0 & 19 & -38\\\\\n",
    "\\end{array}\\right]\n",
    "$$\n"
   ]
  },
  {
   "cell_type": "code",
   "execution_count": 14,
   "metadata": {},
   "outputs": [],
   "source": [
    "def addtorow(r, α, j, n=3):\n",
    "    \"\"\"Elementary matrix to add α times row j to row r,\n",
    "when multiplied on the left of a target matrix of n rows.\"\"\"\n",
    "    E = np.asmatrix(np.eye(n))\n",
    "    E[r,j] = α\n",
    "    return E"
   ]
  },
  {
   "cell_type": "code",
   "execution_count": 15,
   "metadata": {},
   "outputs": [
    {
     "data": {
      "text/plain": [
       "matrix([[ 1.,  0.,  0.],\n",
       "        [ 0.,  1.,  0.],\n",
       "        [ 0., -3.,  1.]])"
      ]
     },
     "execution_count": 15,
     "metadata": {},
     "output_type": "execute_result"
    }
   ],
   "source": [
    "E2 = addtorow(2, -3, 1); E2"
   ]
  },
  {
   "cell_type": "code",
   "execution_count": 16,
   "metadata": {},
   "outputs": [
    {
     "data": {
      "text/plain": [
       "matrix([[  1.,   1.,   2.,   0.],\n",
       "        [  0.,   1.,  -5.,  13.],\n",
       "        [  0.,   0.,  19., -38.]])"
      ]
     },
     "execution_count": 16,
     "metadata": {},
     "output_type": "execute_result"
    }
   ],
   "source": [
    "E2*E1*M"
   ]
  },
  {
   "cell_type": "markdown",
   "metadata": {},
   "source": [
    "## Remaining row operation steps"
   ]
  },
  {
   "cell_type": "code",
   "execution_count": 17,
   "metadata": {},
   "outputs": [
    {
     "data": {
      "text/plain": [
       "matrix([[  1.,   0.,   7., -13.],\n",
       "        [  0.,   1.,  -5.,  13.],\n",
       "        [  0.,   0.,  19., -38.]])"
      ]
     },
     "execution_count": 17,
     "metadata": {},
     "output_type": "execute_result"
    }
   ],
   "source": [
    "E3 = addtorow(0, -1, 1); E3*E2*E1*M"
   ]
  },
  {
   "cell_type": "code",
   "execution_count": 18,
   "metadata": {},
   "outputs": [
    {
     "data": {
      "text/plain": [
       "matrix([[  1.,   0.,   7., -13.],\n",
       "        [  0.,   1.,  -5.,  13.],\n",
       "        [  0.,   0.,   1.,  -2.]])"
      ]
     },
     "execution_count": 18,
     "metadata": {},
     "output_type": "execute_result"
    }
   ],
   "source": [
    "E4 = scalerow(2, 1/19); E4*E3*E2*E1*M"
   ]
  },
  {
   "cell_type": "code",
   "execution_count": 19,
   "metadata": {},
   "outputs": [
    {
     "data": {
      "text/plain": [
       "matrix([[ 1.00000000e+00,  0.00000000e+00,  7.00000000e+00,\n",
       "         -1.30000000e+01],\n",
       "        [ 0.00000000e+00,  1.00000000e+00, -2.22044605e-16,\n",
       "          3.00000000e+00],\n",
       "        [ 0.00000000e+00,  0.00000000e+00,  1.00000000e+00,\n",
       "         -2.00000000e+00]])"
      ]
     },
     "execution_count": 19,
     "metadata": {},
     "output_type": "execute_result"
    }
   ],
   "source": [
    "E5 = addtorow(1, 5, 2); E5*E4*E3*E2*E1*M"
   ]
  },
  {
   "cell_type": "code",
   "execution_count": 20,
   "metadata": {},
   "outputs": [
    {
     "data": {
      "text/plain": [
       "matrix([[ 1.00000000e+00, -5.55111512e-17,  4.44089210e-16,\n",
       "          1.00000000e+00],\n",
       "        [ 0.00000000e+00,  1.00000000e+00, -2.22044605e-16,\n",
       "          3.00000000e+00],\n",
       "        [ 0.00000000e+00,  0.00000000e+00,  1.00000000e+00,\n",
       "         -2.00000000e+00]])"
      ]
     },
     "execution_count": 20,
     "metadata": {},
     "output_type": "execute_result"
    }
   ],
   "source": [
    "E6 = addtorow(0, -7, 2); E6*E5*E4*E3*E2*E1*M"
   ]
  },
  {
   "cell_type": "code",
   "execution_count": 21,
   "metadata": {},
   "outputs": [
    {
     "data": {
      "text/plain": [
       "array([[ 1., -0.,  0.,  1.],\n",
       "       [ 0.,  1., -0.,  3.],\n",
       "       [ 0.,  0.,  1., -2.]])"
      ]
     },
     "execution_count": 21,
     "metadata": {},
     "output_type": "execute_result"
    }
   ],
   "source": [
    "np.round( E6*E5*E4*E3*E2*E1*M  ,9)"
   ]
  },
  {
   "cell_type": "markdown",
   "metadata": {},
   "source": [
    "## Summary\n",
    "\n",
    "We have transformed the original augmented matrix\n",
    "\n",
    "$$\\left[ \n",
    "\\begin{array}{rrr:r}\n",
    " 2 & 2 &  4 & 0\\\\\n",
    " 0 & 1 & -5 & 13\\\\\n",
    " 0 & 3 &  4 & 1\\\\\n",
    "\\end{array}\\right]\n",
    "$$\n",
    "\n",
    "to the equivalent augmented matrix\n",
    "\n",
    "$$\\left[ \n",
    "\\begin{array}{rrr:r}\n",
    " 1 & 0 & 0 & 1\\\\\n",
    " 0 & 1 & 0 & 3\\\\\n",
    " 0 & 0 & 1 & -2\\\\\n",
    "\\end{array}\\right].\n",
    "$$"
   ]
  },
  {
   "cell_type": "markdown",
   "metadata": {},
   "source": [
    "In other words,\n",
    "\n",
    "$$\\left[ \n",
    "\\begin{array}{rrr}\n",
    " 1 & 0 & 0 \\\\\n",
    " 0 & 1 & 0 \\\\\n",
    " 0 & 0 & 1 \\\\\n",
    "\\end{array}\\right]\n",
    "\\;\n",
    "\\left[\\begin{array}{c}\n",
    "x \\\\\n",
    "y \\\\\n",
    "z \\\\\n",
    "\\end{array}\\right]\n",
    "\\;=\\;\n",
    "\\left[\\begin{array}{r}\n",
    " 1\\\\\n",
    " 3\\\\\n",
    " -2\\\\\n",
    "\\end{array}\n",
    "\\right]\n",
    "$$\n",
    "\n",
    "Or\n",
    "\n",
    "$$\\left[\\begin{array}{c}\n",
    "x \\\\\n",
    "y \\\\\n",
    "z \\\\\n",
    "\\end{array}\\right]\n",
    "\\;=\\;\n",
    "\\left[\\begin{array}{r}\n",
    " 1\\\\\n",
    " 3\\\\\n",
    " -2\\\\\n",
    "\\end{array}\n",
    "\\right]\n",
    "$$\n"
   ]
  },
  {
   "cell_type": "markdown",
   "metadata": {},
   "source": [
    "Thus, $x=1$, $y=3$, and $z=-2$ is the solution to the original system of equations."
   ]
  },
  {
   "cell_type": "markdown",
   "metadata": {},
   "source": [
    "The point $(1,3,-2)$ in $xyz$-space is the intersection of the planes given by the three equations."
   ]
  },
  {
   "cell_type": "code",
   "execution_count": null,
   "metadata": {},
   "outputs": [],
   "source": []
  },
  {
   "cell_type": "markdown",
   "metadata": {},
   "source": [
    "## Revisiting the elementary matrices"
   ]
  },
  {
   "cell_type": "code",
   "execution_count": 22,
   "metadata": {},
   "outputs": [
    {
     "data": {
      "text/plain": [
       "array([[ 1., -0.,  0.],\n",
       "       [ 0.,  1., -0.],\n",
       "       [ 0.,  0.,  1.]])"
      ]
     },
     "execution_count": 22,
     "metadata": {},
     "output_type": "execute_result"
    }
   ],
   "source": [
    "np.round( (E6*E5*E4*E3*E2*E1) * A ,9)"
   ]
  },
  {
   "cell_type": "code",
   "execution_count": 23,
   "metadata": {},
   "outputs": [
    {
     "data": {
      "text/plain": [
       "matrix([[ 2,  2,  4],\n",
       "        [ 0,  1, -5],\n",
       "        [ 0,  3,  4]])"
      ]
     },
     "execution_count": 23,
     "metadata": {},
     "output_type": "execute_result"
    }
   ],
   "source": [
    "A"
   ]
  },
  {
   "cell_type": "code",
   "execution_count": 24,
   "metadata": {},
   "outputs": [
    {
     "data": {
      "text/plain": [
       "matrix([[ 0.5       ,  0.10526316, -0.36842105],\n",
       "        [ 0.        ,  0.21052632,  0.26315789],\n",
       "        [ 0.        , -0.15789474,  0.05263158]])"
      ]
     },
     "execution_count": 24,
     "metadata": {},
     "output_type": "execute_result"
    }
   ],
   "source": [
    "E6*E5*E4*E3*E2*E1  "
   ]
  },
  {
   "cell_type": "code",
   "execution_count": 25,
   "metadata": {},
   "outputs": [
    {
     "data": {
      "text/plain": [
       "matrix([[ 0.5       ,  0.10526316, -0.36842105],\n",
       "        [ 0.        ,  0.21052632,  0.26315789],\n",
       "        [-0.        , -0.15789474,  0.05263158]])"
      ]
     },
     "execution_count": 25,
     "metadata": {},
     "output_type": "execute_result"
    }
   ],
   "source": [
    "A.I"
   ]
  },
  {
   "cell_type": "markdown",
   "metadata": {},
   "source": [
    "## Answer (version 2)"
   ]
  },
  {
   "cell_type": "code",
   "execution_count": 26,
   "metadata": {},
   "outputs": [
    {
     "data": {
      "text/plain": [
       "matrix([[ 1.],\n",
       "        [ 3.],\n",
       "        [-2.]])"
      ]
     },
     "execution_count": 26,
     "metadata": {},
     "output_type": "execute_result"
    }
   ],
   "source": [
    "(E6*E5*E4*E3*E2*E1) * d"
   ]
  },
  {
   "cell_type": "code",
   "execution_count": 27,
   "metadata": {},
   "outputs": [
    {
     "data": {
      "text/plain": [
       "matrix([[ 1.],\n",
       "        [ 3.],\n",
       "        [-2.]])"
      ]
     },
     "execution_count": 27,
     "metadata": {},
     "output_type": "execute_result"
    }
   ],
   "source": [
    "A.I*d"
   ]
  },
  {
   "cell_type": "code",
   "execution_count": null,
   "metadata": {},
   "outputs": [],
   "source": []
  },
  {
   "cell_type": "markdown",
   "metadata": {},
   "source": [
    "# General Solution"
   ]
  },
  {
   "cell_type": "markdown",
   "metadata": {},
   "source": [
    "The original matrix equation:\n",
    "\n",
    "$$\\begin{array}{cccc}\n",
    "\\left[ \n",
    "\\begin{array}{rrr}\n",
    " 2 & 2 &  4 \\\\\n",
    " 0 & 1 & -5 \\\\\n",
    " 0 & 3 &  4 \\\\\n",
    "\\end{array}\\right]\n",
    "&\n",
    "\\left[\\begin{array}{c}\n",
    "x \\\\\n",
    "y \\\\\n",
    "z \\\\\n",
    "\\end{array}\\right]\n",
    "& = &\n",
    "\\left[\\begin{array}{r}\n",
    " 0\\\\\n",
    "13\\\\\n",
    " 1\\\\\n",
    "\\end{array}\n",
    "\\right] \\\\\n",
    "A & t &  & d \\\\\n",
    "\\end{array}$$\n"
   ]
  },
  {
   "cell_type": "markdown",
   "metadata": {},
   "source": [
    "The general solution to such a matrix equation is\n",
    "\n",
    "\\begin{eqnarray*}\n",
    "At & = & d \\\\\n",
    "A^{-1}At & = & A^{-1}d \\\\\n",
    "I\\;t & = & A^{-1}d \\\\\n",
    "t &=& A^{-1}d \n",
    "\\end{eqnarray*}\n"
   ]
  },
  {
   "cell_type": "markdown",
   "metadata": {},
   "source": [
    "# Example 2\n",
    "\n",
    "$$\\left[ \n",
    "\\begin{array}{rrrrr}\n",
    " 2 &  7 & -1 &  3 &  6 \\\\\n",
    " 3 &  3 &  1 & -1 &  5 \\\\\n",
    " 1 & -1 & -2 & -3 & -8 \\\\\n",
    " 4 &  5 & -3 &  7 & 10 \\\\\n",
    "-5 &  3 & -9 & -9 &  1 \\\\\n",
    "\\end{array}\\right]\n",
    "\\left[\\begin{array}{c}\n",
    "v \\\\\n",
    "w \\\\\n",
    "x \\\\\n",
    "y \\\\\n",
    "z \\\\\n",
    "\\end{array}\\right]\n",
    "\\;=\\;\n",
    "\\left[\\begin{array}{r}\n",
    " 24\\\\\n",
    " -1\\\\\n",
    "-16\\\\\n",
    " 52\\\\\n",
    " 25\\\\\n",
    "\\end{array}\n",
    "\\right]\n",
    "$$\n"
   ]
  },
  {
   "cell_type": "code",
   "execution_count": 28,
   "metadata": {},
   "outputs": [
    {
     "data": {
      "text/plain": [
       "matrix([[ 2,  7, -1,  3,  6],\n",
       "        [ 3,  3,  1, -1,  5],\n",
       "        [ 1, -1, -2, -3, -8],\n",
       "        [ 4,  5, -3,  7, 10],\n",
       "        [-5,  3, -9, -9,  1]])"
      ]
     },
     "execution_count": 28,
     "metadata": {},
     "output_type": "execute_result"
    }
   ],
   "source": [
    "A2 = np.mat(\"2 7 -1 3 6; 3 3 1 -1 5; 1 -1 -2 -3 -8; 4 5 -3 7 10; -5 3 -9 -9 1\"); A2"
   ]
  },
  {
   "cell_type": "code",
   "execution_count": 29,
   "metadata": {},
   "outputs": [
    {
     "data": {
      "text/plain": [
       "matrix([[ 24],\n",
       "        [ -1],\n",
       "        [-16],\n",
       "        [ 52],\n",
       "        [ 25]])"
      ]
     },
     "execution_count": 29,
     "metadata": {},
     "output_type": "execute_result"
    }
   ],
   "source": [
    "d2 = np.mat(\"24 -1 -16 52 25\").T; d2   "
   ]
  },
  {
   "cell_type": "code",
   "execution_count": 30,
   "metadata": {},
   "outputs": [],
   "source": [
    "t2 = A2.I * d2"
   ]
  },
  {
   "cell_type": "code",
   "execution_count": 31,
   "metadata": {},
   "outputs": [
    {
     "data": {
      "text/plain": [
       "matrix([[-1.00000000e+00],\n",
       "        [-1.77635684e-15],\n",
       "        [-5.00000000e+00],\n",
       "        [ 3.00000000e+00],\n",
       "        [ 2.00000000e+00]])"
      ]
     },
     "execution_count": 31,
     "metadata": {},
     "output_type": "execute_result"
    }
   ],
   "source": [
    "t2"
   ]
  },
  {
   "cell_type": "code",
   "execution_count": 32,
   "metadata": {},
   "outputs": [
    {
     "data": {
      "text/plain": [
       "array([[-1.],\n",
       "       [-0.],\n",
       "       [-5.],\n",
       "       [ 3.],\n",
       "       [ 2.]])"
      ]
     },
     "execution_count": 32,
     "metadata": {},
     "output_type": "execute_result"
    }
   ],
   "source": [
    "np.round( t2 ,9)"
   ]
  },
  {
   "cell_type": "markdown",
   "metadata": {},
   "source": [
    "## Check:"
   ]
  },
  {
   "cell_type": "code",
   "execution_count": 33,
   "metadata": {},
   "outputs": [
    {
     "data": {
      "text/plain": [
       "matrix([[ 24.],\n",
       "        [ -1.],\n",
       "        [-16.],\n",
       "        [ 52.],\n",
       "        [ 25.]])"
      ]
     },
     "execution_count": 33,
     "metadata": {},
     "output_type": "execute_result"
    }
   ],
   "source": [
    "A2*t2"
   ]
  },
  {
   "cell_type": "code",
   "execution_count": 34,
   "metadata": {},
   "outputs": [
    {
     "data": {
      "text/plain": [
       "matrix([[-2.13162821e-14],\n",
       "        [-8.88178420e-15],\n",
       "        [ 7.10542736e-15],\n",
       "        [-2.13162821e-14],\n",
       "        [-7.10542736e-15]])"
      ]
     },
     "execution_count": 34,
     "metadata": {},
     "output_type": "execute_result"
    }
   ],
   "source": [
    "A2*t2-d2"
   ]
  },
  {
   "cell_type": "code",
   "execution_count": 35,
   "metadata": {},
   "outputs": [
    {
     "data": {
      "text/plain": [
       "array([[-0.],\n",
       "       [-0.],\n",
       "       [ 0.],\n",
       "       [-0.],\n",
       "       [-0.]])"
      ]
     },
     "execution_count": 35,
     "metadata": {},
     "output_type": "execute_result"
    }
   ],
   "source": [
    "np.round( A2*t2-d2 ,9)"
   ]
  },
  {
   "cell_type": "markdown",
   "metadata": {},
   "source": [
    "# Example 3\n",
    "\n",
    "$$\\left[ \n",
    "\\begin{array}{rrrrr}\n",
    " 1 &  0 & -5 &  6 \\\\\n",
    " 1 &  1 &  1 &  1 \\\\\n",
    " 3 &  0 & -5 &  8 \\\\\n",
    " 1 & -1 & -1 &  1 \\\\\n",
    "\\end{array}\\right]\n",
    "\\left[\\begin{array}{c}\n",
    "w \\\\\n",
    "x \\\\\n",
    "y \\\\\n",
    "z \\\\\n",
    "\\end{array}\\right]\n",
    "\\;=\\;\n",
    "\\left[\\begin{array}{r}\n",
    "-1\\\\\n",
    " 7\\\\\n",
    " 7\\\\\n",
    " 1\\\\\n",
    "\\end{array}\n",
    "\\right]\n",
    "$$\n",
    "\n"
   ]
  },
  {
   "cell_type": "code",
   "execution_count": 36,
   "metadata": {},
   "outputs": [],
   "source": [
    "A3 = np.mat(\"1 0 -5 6; 1 1 1 1; 3 0 -5 8; 1 -1 -1 1\")"
   ]
  },
  {
   "cell_type": "code",
   "execution_count": 37,
   "metadata": {},
   "outputs": [
    {
     "data": {
      "text/plain": [
       "matrix([[ 1,  0, -5,  6],\n",
       "        [ 1,  1,  1,  1],\n",
       "        [ 3,  0, -5,  8],\n",
       "        [ 1, -1, -1,  1]])"
      ]
     },
     "execution_count": 37,
     "metadata": {},
     "output_type": "execute_result"
    }
   ],
   "source": [
    "A3"
   ]
  },
  {
   "cell_type": "code",
   "execution_count": 38,
   "metadata": {},
   "outputs": [
    {
     "data": {
      "text/plain": [
       "matrix([[-1],\n",
       "        [ 7],\n",
       "        [ 7],\n",
       "        [ 1]])"
      ]
     },
     "execution_count": 38,
     "metadata": {},
     "output_type": "execute_result"
    }
   ],
   "source": [
    "d3 = np.mat([-1, 7, 7, 1]).T; d3"
   ]
  },
  {
   "cell_type": "code",
   "execution_count": 39,
   "metadata": {},
   "outputs": [
    {
     "data": {
      "text/plain": [
       "matrix([[-32.],\n",
       "        [  0.],\n",
       "        [ 16.],\n",
       "        [ 16.]])"
      ]
     },
     "execution_count": 39,
     "metadata": {},
     "output_type": "execute_result"
    }
   ],
   "source": [
    "t3 = A3.I*d3; t3"
   ]
  },
  {
   "cell_type": "code",
   "execution_count": 40,
   "metadata": {},
   "outputs": [
    {
     "data": {
      "text/plain": [
       "matrix([[-16.],\n",
       "        [  0.],\n",
       "        [-48.],\n",
       "        [-32.]])"
      ]
     },
     "execution_count": 40,
     "metadata": {},
     "output_type": "execute_result"
    }
   ],
   "source": [
    "A3*t3"
   ]
  },
  {
   "cell_type": "code",
   "execution_count": 41,
   "metadata": {},
   "outputs": [
    {
     "data": {
      "text/plain": [
       "matrix([[-1.35107989e+16, -1.35107989e+16,  1.35107989e+16,\n",
       "         -1.35107989e+16],\n",
       "        [-1.35107989e+16, -1.35107989e+16,  1.35107989e+16,\n",
       "         -1.35107989e+16],\n",
       "        [ 1.35107989e+16,  1.35107989e+16, -1.35107989e+16,\n",
       "          1.35107989e+16],\n",
       "        [ 1.35107989e+16,  1.35107989e+16, -1.35107989e+16,\n",
       "          1.35107989e+16]])"
      ]
     },
     "execution_count": 41,
     "metadata": {},
     "output_type": "execute_result"
    }
   ],
   "source": [
    "A3.I"
   ]
  },
  {
   "cell_type": "markdown",
   "metadata": {},
   "source": [
    "# Singular (Noninvertible) Matrices"
   ]
  },
  {
   "cell_type": "markdown",
   "metadata": {},
   "source": [
    "### Test 1: Determinants\n",
    "\n",
    "A square matrix is invertible (nonsingular) if and only if its **determinant** is nonzero."
   ]
  },
  {
   "cell_type": "code",
   "execution_count": 42,
   "metadata": {},
   "outputs": [],
   "source": [
    "import numpy.linalg"
   ]
  },
  {
   "cell_type": "code",
   "execution_count": 43,
   "metadata": {},
   "outputs": [
    {
     "data": {
      "text/plain": [
       "7.401486830834343e-16"
      ]
     },
     "execution_count": 43,
     "metadata": {},
     "output_type": "execute_result"
    }
   ],
   "source": [
    "np.linalg.det(A3)"
   ]
  },
  {
   "cell_type": "code",
   "execution_count": 44,
   "metadata": {},
   "outputs": [
    {
     "data": {
      "text/plain": [
       "17052.000000000007"
      ]
     },
     "execution_count": 44,
     "metadata": {},
     "output_type": "execute_result"
    }
   ],
   "source": [
    "np.linalg.det(A2)"
   ]
  },
  {
   "cell_type": "markdown",
   "metadata": {},
   "source": [
    "### Test 2: Matrix rank\n",
    "\n",
    "A square matrix is invertible (nonsingular) if and only if it is of **full rank**."
   ]
  },
  {
   "cell_type": "code",
   "execution_count": 45,
   "metadata": {},
   "outputs": [
    {
     "data": {
      "text/plain": [
       "3"
      ]
     },
     "execution_count": 45,
     "metadata": {},
     "output_type": "execute_result"
    }
   ],
   "source": [
    "np.linalg.matrix_rank(A3) "
   ]
  },
  {
   "cell_type": "code",
   "execution_count": 46,
   "metadata": {},
   "outputs": [
    {
     "data": {
      "text/plain": [
       "(4, 4)"
      ]
     },
     "execution_count": 46,
     "metadata": {},
     "output_type": "execute_result"
    }
   ],
   "source": [
    "A3.shape"
   ]
  },
  {
   "cell_type": "code",
   "execution_count": 47,
   "metadata": {},
   "outputs": [
    {
     "data": {
      "text/plain": [
       "5"
      ]
     },
     "execution_count": 47,
     "metadata": {},
     "output_type": "execute_result"
    }
   ],
   "source": [
    "np.linalg.matrix_rank(A2)"
   ]
  },
  {
   "cell_type": "code",
   "execution_count": 48,
   "metadata": {},
   "outputs": [
    {
     "data": {
      "text/plain": [
       "(5, 5)"
      ]
     },
     "execution_count": 48,
     "metadata": {},
     "output_type": "execute_result"
    }
   ],
   "source": [
    "A2.shape"
   ]
  },
  {
   "cell_type": "code",
   "execution_count": 49,
   "metadata": {},
   "outputs": [
    {
     "name": "stderr",
     "output_type": "stream",
     "text": [
      "/home/sl/anaconda3/lib/python3.7/site-packages/ipykernel_launcher.py:1: VisibleDeprecationWarning: `rank` is deprecated; use the `ndim` attribute or function instead. To find the rank of a matrix see `numpy.linalg.matrix_rank`.\n",
      "  \"\"\"Entry point for launching an IPython kernel.\n"
     ]
    },
    {
     "data": {
      "text/plain": [
       "2"
      ]
     },
     "execution_count": 49,
     "metadata": {},
     "output_type": "execute_result"
    }
   ],
   "source": [
    "np.rank(A3)"
   ]
  },
  {
   "cell_type": "code",
   "execution_count": 50,
   "metadata": {},
   "outputs": [
    {
     "data": {
      "text/plain": [
       "(4, 4)"
      ]
     },
     "execution_count": 50,
     "metadata": {},
     "output_type": "execute_result"
    }
   ],
   "source": [
    "A3.shape"
   ]
  },
  {
   "cell_type": "code",
   "execution_count": null,
   "metadata": {},
   "outputs": [],
   "source": []
  },
  {
   "cell_type": "markdown",
   "metadata": {},
   "source": [
    "# LU Decomposition"
   ]
  },
  {
   "cell_type": "markdown",
   "metadata": {},
   "source": [
    "Getting back to Example 3, how do we deal with fact that $A$ is singular?"
   ]
  },
  {
   "cell_type": "code",
   "execution_count": 51,
   "metadata": {},
   "outputs": [],
   "source": [
    "import scipy.linalg"
   ]
  },
  {
   "cell_type": "code",
   "execution_count": 52,
   "metadata": {},
   "outputs": [],
   "source": [
    "P, L, U = scipy.linalg.lu(A3)"
   ]
  },
  {
   "cell_type": "code",
   "execution_count": 53,
   "metadata": {},
   "outputs": [
    {
     "data": {
      "text/plain": [
       "array([[0., 0., 1., 0.],\n",
       "       [0., 1., 0., 0.],\n",
       "       [1., 0., 0., 0.],\n",
       "       [0., 0., 0., 1.]])"
      ]
     },
     "execution_count": 53,
     "metadata": {},
     "output_type": "execute_result"
    }
   ],
   "source": [
    "P"
   ]
  },
  {
   "cell_type": "code",
   "execution_count": 54,
   "metadata": {},
   "outputs": [
    {
     "data": {
      "text/plain": [
       "array([[ 1.        ,  0.        ,  0.        ,  0.        ],\n",
       "       [ 0.33333333,  1.        ,  0.        ,  0.        ],\n",
       "       [ 0.33333333,  0.        ,  1.        ,  0.        ],\n",
       "       [ 0.33333333, -1.        , -1.        ,  1.        ]])"
      ]
     },
     "execution_count": 54,
     "metadata": {},
     "output_type": "execute_result"
    }
   ],
   "source": [
    "L"
   ]
  },
  {
   "cell_type": "code",
   "execution_count": 55,
   "metadata": {},
   "outputs": [
    {
     "data": {
      "text/plain": [
       "array([[ 3.        ,  0.        , -5.        ,  8.        ],\n",
       "       [ 0.        ,  1.        ,  2.66666667, -1.66666667],\n",
       "       [ 0.        ,  0.        , -3.33333333,  3.33333333],\n",
       "       [ 0.        ,  0.        ,  0.        ,  0.        ]])"
      ]
     },
     "execution_count": 55,
     "metadata": {},
     "output_type": "execute_result"
    }
   ],
   "source": [
    "np.round( U ,9)"
   ]
  },
  {
   "cell_type": "code",
   "execution_count": 56,
   "metadata": {},
   "outputs": [
    {
     "data": {
      "text/plain": [
       "matrix([[ 1.,  0., -5.,  6.],\n",
       "        [ 1.,  1.,  1.,  1.],\n",
       "        [ 3.,  0., -5.,  8.],\n",
       "        [ 1., -1., -1.,  1.]])"
      ]
     },
     "execution_count": 56,
     "metadata": {},
     "output_type": "execute_result"
    }
   ],
   "source": [
    "np.asmatrix(P)*L*U"
   ]
  },
  {
   "cell_type": "code",
   "execution_count": null,
   "metadata": {},
   "outputs": [],
   "source": []
  },
  {
   "cell_type": "code",
   "execution_count": 57,
   "metadata": {},
   "outputs": [
    {
     "data": {
      "text/plain": [
       "array([[0., 0., 1., 0.],\n",
       "       [0., 1., 0., 0.],\n",
       "       [1., 0., 0., 0.],\n",
       "       [0., 0., 0., 1.]])"
      ]
     },
     "execution_count": 57,
     "metadata": {},
     "output_type": "execute_result"
    }
   ],
   "source": [
    "P"
   ]
  },
  {
   "cell_type": "code",
   "execution_count": 58,
   "metadata": {},
   "outputs": [
    {
     "data": {
      "text/plain": [
       "-1.0"
      ]
     },
     "execution_count": 58,
     "metadata": {},
     "output_type": "execute_result"
    }
   ],
   "source": [
    "np.linalg.det(P)"
   ]
  },
  {
   "cell_type": "code",
   "execution_count": 59,
   "metadata": {},
   "outputs": [
    {
     "data": {
      "text/plain": [
       "array([[ 1.        ,  0.        ,  0.        ,  0.        ],\n",
       "       [ 0.33333333,  1.        ,  0.        ,  0.        ],\n",
       "       [ 0.33333333,  0.        ,  1.        ,  0.        ],\n",
       "       [ 0.33333333, -1.        , -1.        ,  1.        ]])"
      ]
     },
     "execution_count": 59,
     "metadata": {},
     "output_type": "execute_result"
    }
   ],
   "source": [
    "L"
   ]
  },
  {
   "cell_type": "code",
   "execution_count": 60,
   "metadata": {},
   "outputs": [
    {
     "data": {
      "text/plain": [
       "1.0"
      ]
     },
     "execution_count": 60,
     "metadata": {},
     "output_type": "execute_result"
    }
   ],
   "source": [
    "np.linalg.det(L)"
   ]
  },
  {
   "cell_type": "code",
   "execution_count": 61,
   "metadata": {},
   "outputs": [
    {
     "data": {
      "text/plain": [
       "array([[ 3.        ,  0.        , -5.        ,  8.        ],\n",
       "       [ 0.        ,  1.        ,  2.66666667, -1.66666667],\n",
       "       [ 0.        ,  0.        , -3.33333333,  3.33333333],\n",
       "       [ 0.        ,  0.        ,  0.        ,  0.        ]])"
      ]
     },
     "execution_count": 61,
     "metadata": {},
     "output_type": "execute_result"
    }
   ],
   "source": [
    "np.round(U ,9)"
   ]
  },
  {
   "cell_type": "code",
   "execution_count": 62,
   "metadata": {},
   "outputs": [
    {
     "data": {
      "text/plain": [
       "-7.401486830834343e-16"
      ]
     },
     "execution_count": 62,
     "metadata": {},
     "output_type": "execute_result"
    }
   ],
   "source": [
    "np.linalg.det(U)"
   ]
  },
  {
   "cell_type": "code",
   "execution_count": 63,
   "metadata": {},
   "outputs": [
    {
     "data": {
      "text/plain": [
       "3"
      ]
     },
     "execution_count": 63,
     "metadata": {},
     "output_type": "execute_result"
    }
   ],
   "source": [
    "np.linalg.matrix_rank(U)"
   ]
  },
  {
   "cell_type": "code",
   "execution_count": 64,
   "metadata": {},
   "outputs": [],
   "source": [
    "PL = np.asmatrix(P)*L"
   ]
  },
  {
   "cell_type": "code",
   "execution_count": 65,
   "metadata": {},
   "outputs": [
    {
     "data": {
      "text/plain": [
       "matrix([[ 0.33333333,  0.        ,  1.        ,  0.        ],\n",
       "        [ 0.33333333,  1.        ,  0.        ,  0.        ],\n",
       "        [ 1.        ,  0.        ,  0.        ,  0.        ],\n",
       "        [ 0.33333333, -1.        , -1.        ,  1.        ]])"
      ]
     },
     "execution_count": 65,
     "metadata": {},
     "output_type": "execute_result"
    }
   ],
   "source": [
    "PL"
   ]
  },
  {
   "cell_type": "code",
   "execution_count": 66,
   "metadata": {},
   "outputs": [
    {
     "data": {
      "text/plain": [
       "matrix([[ 1.,  0., -5.,  6.],\n",
       "        [ 1.,  1.,  1.,  1.],\n",
       "        [ 3.,  0., -5.,  8.],\n",
       "        [ 1., -1., -1.,  1.]])"
      ]
     },
     "execution_count": 66,
     "metadata": {},
     "output_type": "execute_result"
    }
   ],
   "source": [
    "PL*U"
   ]
  },
  {
   "cell_type": "code",
   "execution_count": 67,
   "metadata": {},
   "outputs": [
    {
     "data": {
      "text/plain": [
       "-1.0"
      ]
     },
     "execution_count": 67,
     "metadata": {},
     "output_type": "execute_result"
    }
   ],
   "source": [
    "np.linalg.det(PL)"
   ]
  },
  {
   "cell_type": "code",
   "execution_count": 68,
   "metadata": {},
   "outputs": [
    {
     "data": {
      "text/plain": [
       "matrix([[-0.        ,  0.        ,  1.        , -0.        ],\n",
       "        [-0.        ,  1.        , -0.33333333, -0.        ],\n",
       "        [ 1.        ,  0.        , -0.33333333, -0.        ],\n",
       "        [ 1.        ,  1.        , -1.        ,  1.        ]])"
      ]
     },
     "execution_count": 68,
     "metadata": {},
     "output_type": "execute_result"
    }
   ],
   "source": [
    "PL.I"
   ]
  },
  {
   "cell_type": "code",
   "execution_count": null,
   "metadata": {},
   "outputs": [],
   "source": []
  },
  {
   "cell_type": "markdown",
   "metadata": {},
   "source": [
    "This suggests we can do the following:\n",
    "\n",
    "\\begin{eqnarray*}\n",
    "At &=& d\\\\\n",
    "PLUt &=& d\\\\\n",
    "Ut &=& (PL)^{-1}d\n",
    "\\end{eqnarray*}\n",
    "\n"
   ]
  },
  {
   "cell_type": "code",
   "execution_count": 69,
   "metadata": {},
   "outputs": [
    {
     "data": {
      "text/plain": [
       "array([[ 3.        ,  0.        , -5.        ,  8.        ],\n",
       "       [ 0.        ,  1.        ,  2.66666667, -1.66666667],\n",
       "       [ 0.        ,  0.        , -3.33333333,  3.33333333],\n",
       "       [ 0.        ,  0.        ,  0.        ,  0.        ]])"
      ]
     },
     "execution_count": 69,
     "metadata": {},
     "output_type": "execute_result"
    }
   ],
   "source": [
    "np.round( U ,9)"
   ]
  },
  {
   "cell_type": "code",
   "execution_count": 70,
   "metadata": {},
   "outputs": [
    {
     "data": {
      "text/plain": [
       "matrix([[ 7.        ],\n",
       "        [ 4.66666667],\n",
       "        [-3.33333333],\n",
       "        [ 0.        ]])"
      ]
     },
     "execution_count": 70,
     "metadata": {},
     "output_type": "execute_result"
    }
   ],
   "source": [
    "PL.I*d3"
   ]
  },
  {
   "cell_type": "code",
   "execution_count": 71,
   "metadata": {},
   "outputs": [
    {
     "data": {
      "text/plain": [
       "array([[  9.,   0., -15.,  24.],\n",
       "       [  0.,   3.,   8.,  -5.],\n",
       "       [  0.,   0., -10.,  10.],\n",
       "       [  0.,   0.,   0.,   0.]])"
      ]
     },
     "execution_count": 71,
     "metadata": {},
     "output_type": "execute_result"
    }
   ],
   "source": [
    "np.round( 3*U ,9)"
   ]
  },
  {
   "cell_type": "code",
   "execution_count": 72,
   "metadata": {},
   "outputs": [
    {
     "data": {
      "text/plain": [
       "matrix([[ 21.],\n",
       "        [ 14.],\n",
       "        [-10.],\n",
       "        [  0.]])"
      ]
     },
     "execution_count": 72,
     "metadata": {},
     "output_type": "execute_result"
    }
   ],
   "source": [
    "3*PL.I*d3"
   ]
  },
  {
   "cell_type": "markdown",
   "metadata": {},
   "source": [
    "## Recap\n",
    "\n",
    "\\begin{eqnarray*}\n",
    "At &=& d\\\\\n",
    "PLUt &=& d\\\\\n",
    "Ut &=& (PL)^{-1}d\n",
    "\\end{eqnarray*}\n",
    "\n",
    "And in this case (optionally), we multiplied both sides by $3$ to make the numbers nicer:\n",
    "\n",
    "\\begin{eqnarray*}\n",
    "3Ut &=& 3(PL)^{-1}d\n",
    "\\end{eqnarray*}\n",
    "\n",
    "Or:\n",
    "    \n",
    "$$\\left[ \n",
    "\\begin{array}{rrrrr}\n",
    " 9 &  0 & -15 & 24 \\\\\n",
    " 0 &  3 &   8 & -5 \\\\\n",
    " 0 &  0 & -10 & 10 \\\\\n",
    " 0 &  0 &   0 &  0 \\\\\n",
    "\\end{array}\\right]\n",
    "\\left[\\begin{array}{c}\n",
    "w \\\\\n",
    "x \\\\\n",
    "y \\\\\n",
    "z \\\\\n",
    "\\end{array}\\right]\n",
    "\\;=\\;\n",
    "\\left[\\begin{array}{r}\n",
    " 21\\\\\n",
    " 14\\\\\n",
    "-10\\\\\n",
    "  0\\\\\n",
    "\\end{array}\n",
    "\\right]\n",
    "$$\n",
    "\n",
    "    "
   ]
  },
  {
   "cell_type": "code",
   "execution_count": null,
   "metadata": {},
   "outputs": [],
   "source": []
  },
  {
   "cell_type": "markdown",
   "metadata": {},
   "source": [
    "## Solution to Example 3\n",
    "Let $z$ be anything and backsolve (easy because $U$ is upper triangular):\n",
    "\n",
    "\\begin{eqnarray*}\n",
    "{-10y} + 10z &=& {-10} \\\\\n",
    "{-y} + z &=& {-1} \\\\\n",
    "y &=& z+1 \\\\\n",
    "\\\\\n",
    "\\end{eqnarray*}\n",
    "\n",
    "\\begin{eqnarray*}\n",
    "3x + 8y - 5z &=& 14 \\\\\n",
    "3x + 8(z+1) - 5z &=& 14 \\\\\n",
    "3x &=& 6-3z \\\\\n",
    "x &=& 2-z \\\\\n",
    "\\\\\n",
    "\\end{eqnarray*} \n",
    "\n",
    "\\begin{eqnarray*}\n",
    "9w - 15y +24z &=& 21 \\\\\n",
    "9w - 15(z+1) +24z &=& 21 \\\\\n",
    "9w -15z - 15 + 24z &=& 21 \\\\\n",
    "9w &=& 36 - 9z \\\\\n",
    "w &=& 4-z \\\\\n",
    "\\end{eqnarray*}\n"
   ]
  },
  {
   "cell_type": "markdown",
   "metadata": {},
   "source": [
    "Thus, for any number $z$, \n",
    "\n",
    "$$t = \\left[\\begin{array}{c}\n",
    "w \\\\\n",
    "x \\\\\n",
    "y \\\\\n",
    "z \\\\\n",
    "\\end{array}\\right]\n",
    "\\;=\\;\n",
    "\\left[\\begin{array}{c}\n",
    " 4-z\\\\\n",
    " 2-z\\\\\n",
    " z+1\\\\\n",
    " z\\\\\n",
    "\\end{array}\n",
    "\\right]\n",
    "$$\n",
    "\n",
    "is a solution."
   ]
  },
  {
   "cell_type": "code",
   "execution_count": 73,
   "metadata": {},
   "outputs": [],
   "source": [
    "def t3(z): \n",
    "    return np.matrix([4-z, 2-z, z+1, z]).T"
   ]
  },
  {
   "cell_type": "code",
   "execution_count": 74,
   "metadata": {},
   "outputs": [
    {
     "data": {
      "text/plain": [
       "matrix([[3],\n",
       "        [1],\n",
       "        [2],\n",
       "        [1]])"
      ]
     },
     "execution_count": 74,
     "metadata": {},
     "output_type": "execute_result"
    }
   ],
   "source": [
    "t3(1)"
   ]
  },
  {
   "cell_type": "code",
   "execution_count": 75,
   "metadata": {},
   "outputs": [
    {
     "data": {
      "text/plain": [
       "matrix([[-6.17],\n",
       "        [-8.17],\n",
       "        [11.17],\n",
       "        [10.17]])"
      ]
     },
     "execution_count": 75,
     "metadata": {},
     "output_type": "execute_result"
    }
   ],
   "source": [
    "t3(10.17)"
   ]
  },
  {
   "cell_type": "code",
   "execution_count": 76,
   "metadata": {},
   "outputs": [
    {
     "data": {
      "text/plain": [
       "matrix([[-1.],\n",
       "        [ 7.],\n",
       "        [ 7.],\n",
       "        [ 1.]])"
      ]
     },
     "execution_count": 76,
     "metadata": {},
     "output_type": "execute_result"
    }
   ],
   "source": [
    "A3*t3(10.17)"
   ]
  },
  {
   "cell_type": "code",
   "execution_count": 77,
   "metadata": {},
   "outputs": [
    {
     "data": {
      "text/plain": [
       "matrix([[-1],\n",
       "        [ 7],\n",
       "        [ 7],\n",
       "        [ 1]])"
      ]
     },
     "execution_count": 77,
     "metadata": {},
     "output_type": "execute_result"
    }
   ],
   "source": [
    "A3*t3(0)"
   ]
  },
  {
   "cell_type": "markdown",
   "metadata": {},
   "source": [
    "# Underdetermined Systems of Equations\n",
    "\n",
    "The last equation in the system\n",
    "\n",
    "$$\\left[ \n",
    "\\begin{array}{rrrrr}\n",
    " 9 &  0 & -15 & 24 \\\\\n",
    " 0 &  3 &   8 & -5 \\\\\n",
    " 0 &  0 & -10 & 10 \\\\\n",
    " 0 &  0 &   0 &  0 \\\\\n",
    "\\end{array}\\right]\n",
    "\\left[\\begin{array}{c}\n",
    "w \\\\\n",
    "x \\\\\n",
    "y \\\\\n",
    "z \\\\\n",
    "\\end{array}\\right]\n",
    "\\;=\\;\n",
    "\\left[\\begin{array}{r}\n",
    " 21\\\\\n",
    " 14\\\\\n",
    "-10\\\\\n",
    "  0\\\\\n",
    "\\end{array}\n",
    "\\right]\n",
    "$$\n",
    "\n",
    "can be eliminated since it doesn't convey any information (it is always true):\n",
    "\n",
    "$$\\left[ \n",
    "\\begin{array}{rrrrr}\n",
    " 9 &  0 & -15 & 24 \\\\\n",
    " 0 &  3 &   8 & -5 \\\\\n",
    " 0 &  0 & -10 & 10 \\\\\n",
    "\\end{array}\\right]\n",
    "\\left[\\begin{array}{c}\n",
    "w \\\\\n",
    "x \\\\\n",
    "y \\\\\n",
    "z \\\\\n",
    "\\end{array}\\right]\n",
    "\\;=\\;\n",
    "\\left[\\begin{array}{r}\n",
    " 21\\\\\n",
    " 14\\\\\n",
    "-10\\\\\n",
    "\\end{array}\n",
    "\\right]\n",
    "$$\n",
    "\n",
    "This (and the original system) is an __underdetermined__ system of linear equations. It has infinitely many solutions because there are more variables (degrees of freedom) than equations (constraints)."
   ]
  },
  {
   "cell_type": "markdown",
   "metadata": {},
   "source": [
    "# Inconsistent Systems of Equations\n",
    "\n",
    "Conversely, a system of linear equations with no solutions is __inconsistent__ or __overdetermined__.\n"
   ]
  },
  {
   "cell_type": "markdown",
   "metadata": {},
   "source": [
    "## Example 4\n",
    "For example, here is an overdetermined system of three equations in two unknowns:\n",
    "\n",
    "\\begin{eqnarray*}\n",
    "3x - 4y &=& 7 \\\\\n",
    "2x + 6y &=& 5 \\\\\n",
    "5x + 2y  &=& 9 \n",
    "\\end{eqnarray*}\n"
   ]
  },
  {
   "cell_type": "markdown",
   "metadata": {},
   "source": [
    "\n",
    "How do you \"solve\" such a system of equations?"
   ]
  },
  {
   "cell_type": "markdown",
   "metadata": {},
   "source": [
    "\n",
    "In matrix notation,\n",
    "\n",
    "$$\\begin{array}{ccccc}\n",
    "\\left[ \n",
    "\\begin{array}{rr}\n",
    " 3 &  -4  \\\\\n",
    " 2 &   6  \\\\\n",
    " 5 &   2  \\\\\n",
    "\\end{array}\\right]\n",
    "& \n",
    "\\left[\\begin{array}{c}\n",
    "x \\\\\n",
    "y \\\\\n",
    "\\end{array}\\right]\n",
    "& = &\n",
    "\\left[\\begin{array}{r}\n",
    " 7\\\\\n",
    " 5\\\\\n",
    " 9\\\\\n",
    "\\end{array}\n",
    "\\right]\\\\\n",
    "\\\\\n",
    "{A} & {t} &  & {d}\\\\\n",
    "{\\tiny 3\\times 2} & {\\tiny 2 \\times 1} &  & {\\tiny 3 \\times 1}\\\\\n",
    "\\end{array}\n",
    "$$\n",
    "\n"
   ]
  },
  {
   "cell_type": "markdown",
   "metadata": {},
   "source": [
    "### Geometric Point of View"
   ]
  },
  {
   "cell_type": "markdown",
   "metadata": {},
   "source": [
    "Goal: Find the projection $p =A\\bar t$ of $d$ onto the column space\n",
    "of $A$. It will follow that $t=\\bar t$\n",
    "minimizes the distance $\\| A t - d \\|$ and is the **least squares** solution\n",
    "to the linear system $At=d$. "
   ]
  },
  {
   "cell_type": "markdown",
   "metadata": {},
   "source": [
    "<img src=\"projillus2-shade-150.png\">"
   ]
  },
  {
   "cell_type": "markdown",
   "metadata": {},
   "source": [
    "For all possible values of $s$, the vector $As$ must be perpendicular (orthogonal)\n",
    "to the vector $A\\bar t-d$:"
   ]
  },
  {
   "cell_type": "markdown",
   "metadata": {},
   "source": [
    "$$\\begin{array}{c}\n",
    "(As) \\cdot (A\\bar t-d) = 0\\\\\n",
    "(As)^T(A\\bar t-d) =0\\\\\n",
    "s^T A^T(A\\bar t-d)=0\\\\\n",
    "s^T (A^TA\\bar t-A^Td)=0\\\\\n",
    "\\end{array}$$\n"
   ]
  },
  {
   "cell_type": "markdown",
   "metadata": {},
   "source": [
    "This can only be true for *all* values of $s$ if $A^TA\\bar t-A^Td=0$, or $$A^TA\\bar t=A^Td.$$\n",
    "\n",
    "If $A^TA$ is invertible, then the unique solution is\n",
    "\n",
    "$$\\bar t=(A^TA)^{-1}A^Td.$$"
   ]
  },
  {
   "cell_type": "code",
   "execution_count": 78,
   "metadata": {},
   "outputs": [
    {
     "data": {
      "text/plain": [
       "matrix([[ 3, -4],\n",
       "        [ 2,  6],\n",
       "        [ 5,  2]])"
      ]
     },
     "execution_count": 78,
     "metadata": {},
     "output_type": "execute_result"
    }
   ],
   "source": [
    "A4 = np.matrix(\"3 -4; 2 6; 5 2\"); A4"
   ]
  },
  {
   "cell_type": "code",
   "execution_count": 79,
   "metadata": {},
   "outputs": [
    {
     "data": {
      "text/plain": [
       "matrix([[7],\n",
       "        [5],\n",
       "        [9]])"
      ]
     },
     "execution_count": 79,
     "metadata": {},
     "output_type": "execute_result"
    }
   ],
   "source": [
    "d4 = np.matrix(\"7; 5; 9\"); d4"
   ]
  },
  {
   "cell_type": "code",
   "execution_count": 80,
   "metadata": {},
   "outputs": [
    {
     "data": {
      "text/plain": [
       "matrix([[38, 10],\n",
       "        [10, 56]])"
      ]
     },
     "execution_count": 80,
     "metadata": {},
     "output_type": "execute_result"
    }
   ],
   "source": [
    "A4.T * A4"
   ]
  },
  {
   "cell_type": "markdown",
   "metadata": {},
   "source": [
    "Is $A_4^TA_4$ is invertible? Check the determinant:"
   ]
  },
  {
   "cell_type": "code",
   "execution_count": 81,
   "metadata": {},
   "outputs": [
    {
     "data": {
      "text/plain": [
       "2028"
      ]
     },
     "execution_count": 81,
     "metadata": {},
     "output_type": "execute_result"
    }
   ],
   "source": [
    "38*56 - 10*10"
   ]
  },
  {
   "cell_type": "code",
   "execution_count": 82,
   "metadata": {},
   "outputs": [
    {
     "data": {
      "text/plain": [
       "2028.000000000001"
      ]
     },
     "execution_count": 82,
     "metadata": {},
     "output_type": "execute_result"
    }
   ],
   "source": [
    "np.linalg.det(A4.T*A4)"
   ]
  },
  {
   "cell_type": "code",
   "execution_count": 83,
   "metadata": {},
   "outputs": [
    {
     "data": {
      "text/plain": [
       "matrix([[2.00000000e+00],\n",
       "        [1.11022302e-16]])"
      ]
     },
     "execution_count": 83,
     "metadata": {},
     "output_type": "execute_result"
    }
   ],
   "source": [
    "(A4.T*A4).I * A4.T * d4"
   ]
  },
  {
   "cell_type": "markdown",
   "metadata": {},
   "source": [
    "#### Summary of Solution to Example 4"
   ]
  },
  {
   "cell_type": "markdown",
   "metadata": {},
   "source": [
    "Thus, the least squares solution is $$\\bar t=\\left[ \\begin{array}{c} 2 \\\\ 0 \\\\ \\end{array}\\right].$$"
   ]
  },
  {
   "cell_type": "markdown",
   "metadata": {},
   "source": [
    "The projection of $d$ onto the column space of $A$ (the closest we could get) is\n",
    "\n",
    "$$p = A\\bar t=\n",
    "\\left[ \n",
    "\\begin{array}{rr}\n",
    " 3 &  -4  \\\\\n",
    " 2 &   6  \\\\\n",
    " 5 &   2  \\\\\n",
    "\\end{array}\\right]\n",
    "\\left[\\begin{array}{c}\n",
    "2 \\\\\n",
    "0 \\\\\n",
    "\\end{array}\\right]\n",
    "= \n",
    "\\left[\\begin{array}{c}\n",
    " 6\\\\\n",
    " 4\\\\\n",
    " 10\\\\\n",
    "\\end{array}\n",
    "\\right]\n",
    "\\approx \n",
    "\\left[\\begin{array}{c}\n",
    " 7\\\\\n",
    " 5\\\\\n",
    " 9\\\\\n",
    "\\end{array}\n",
    "\\right] =d.\n",
    "$$\n",
    "\n"
   ]
  },
  {
   "cell_type": "markdown",
   "metadata": {},
   "source": [
    "#### Another geometric look:"
   ]
  },
  {
   "cell_type": "code",
   "execution_count": 85,
   "metadata": {},
   "outputs": [
    {
     "data": {
      "image/png": "[encoded data removed]",
      "text/plain": [
       "<Figure size 720x432 with 1 Axes>"
      ]
     },
     "metadata": {
      "needs_background": "light"
     },
     "output_type": "display_data"
    }
   ],
   "source": [
    "import matplotlib.pyplot as plt\n",
    "plt.figure(figsize=(10,6))\n",
    "plt.rcParams.update({'font.size': 15})\n",
    "plt.suptitle('Example 4: Least Squares Solution vs. Intersection of Lines', fontsize=20, fontweight='bold')\n",
    "plt.xlabel('x')\n",
    "plt.xticks(np.arange(1, 4, 1))\n",
    "plt.xlim(1,3)\n",
    "plt.yticks([-2, -1, 0, 1, 2])\n",
    "plt.ylabel('y')\n",
    "plt.ylim(-2,2)\n",
    "x = np.arange(1, 3.1, 0.1)\n",
    "plt.plot(x, 3/4*x-7/4, 'm-', x, -1/3*x+5/6, 'b-', x, -5/2*x+9/2, 'g-')\n",
    "plt.plot(2, 0, marker='.', markersize=8, color='red')\n",
    "plt.text(1.2, -1.1, r'$3x-4y=7$', color='k')\n",
    "plt.text(1.1,  0.1, r'$2x+6y=5$', color='k')\n",
    "plt.text(1.2,  1.7, r'$5x+2y=9$', color='k')\n",
    "plt.show()"
   ]
  },
  {
   "cell_type": "markdown",
   "metadata": {},
   "source": [
    "In general:"
   ]
  },
  {
   "cell_type": "markdown",
   "metadata": {},
   "source": [
    "# Least Squares Solution to a System of Equations \n",
    "\n",
    "$$\\begin{array}{cccc}\n",
    "{\\large A} & {\\large t} & {\\large =} &   {\\large d}\\\\\n",
    "{\\scriptsize n\\times k} & {\\scriptsize k \\times 1} &  & {\\scriptsize n \\times 1}\\\\\n",
    "\\end{array}\n",
    "$$\n",
    "\n",
    "The __least squares__ solution $\\bar t$ to a system $At = d$ of $n$ linear equations in $k$ unknowns \n",
    "satisfies the __normal equations__:\n",
    "\n",
    "$$A^TA\\bar t = A^Td.$$\n",
    "\n",
    "If the columns of $A$ are linearly independent, then $A^TA$ is invertible and the unique least squares solution is \n",
    "\n",
    "$$\\bar t = (A^TA)^{-1}A^Td .$$\n",
    "\n"
   ]
  },
  {
   "cell_type": "markdown",
   "metadata": {},
   "source": [
    "## Example 5\n",
    "\n",
    "A system of five linear equations in one unknown:\n",
    "\n",
    "\\begin{eqnarray*}\n",
    "x &=& 37 \\\\\n",
    "x &=& 22 \\\\\n",
    "x &=& 70 \\\\\n",
    "x &=& 16 \\\\\n",
    "x &=& 84 \n",
    "\\end{eqnarray*}"
   ]
  },
  {
   "cell_type": "markdown",
   "metadata": {},
   "source": [
    "\n",
    "In matrix notation,\n",
    "\n",
    "$$\\begin{array}{ccccc}\n",
    "\\left[ \n",
    "\\begin{array}{r}\n",
    " 1   \\\\\n",
    " 1   \\\\\n",
    " 1   \\\\\n",
    " 1   \\\\\n",
    " 1   \\\\\n",
    "\\end{array}\\right]\n",
    "& \n",
    "\\left[\\begin{array}{c}\n",
    "x \\\\\n",
    "\\end{array}\\right]\n",
    "& = &\n",
    "\\left[\\begin{array}{r}\n",
    " 37\\\\\n",
    " 22\\\\\n",
    " 70\\\\\n",
    " 16\\\\\n",
    " 84\\\\\n",
    "\\end{array}\n",
    "\\right]\\\\\n",
    "\\\\\n",
    "{A} & {t} &  & {d}\\\\\n",
    "{\\tiny 5\\times 1} & {\\tiny 1 \\times 1} &  & {\\tiny 5 \\times 1}\\\\\n",
    "\\end{array}\n",
    "$$\n"
   ]
  },
  {
   "cell_type": "code",
   "execution_count": 86,
   "metadata": {},
   "outputs": [],
   "source": [
    "A5 = np.matrix(\"1; 1; 1; 1; 1\")"
   ]
  },
  {
   "cell_type": "code",
   "execution_count": 87,
   "metadata": {},
   "outputs": [],
   "source": [
    "d5 = np.matrix(\"37; 22; 70; 16; 84\")"
   ]
  },
  {
   "cell_type": "code",
   "execution_count": 88,
   "metadata": {},
   "outputs": [
    {
     "data": {
      "text/plain": [
       "matrix([[5]])"
      ]
     },
     "execution_count": 88,
     "metadata": {},
     "output_type": "execute_result"
    }
   ],
   "source": [
    "A5.T*A5"
   ]
  },
  {
   "cell_type": "code",
   "execution_count": 89,
   "metadata": {},
   "outputs": [
    {
     "data": {
      "text/plain": [
       "matrix([[229]])"
      ]
     },
     "execution_count": 89,
     "metadata": {},
     "output_type": "execute_result"
    }
   ],
   "source": [
    "A5.T*d5"
   ]
  },
  {
   "cell_type": "code",
   "execution_count": 90,
   "metadata": {},
   "outputs": [
    {
     "data": {
      "text/plain": [
       "matrix([[45.8]])"
      ]
     },
     "execution_count": 90,
     "metadata": {},
     "output_type": "execute_result"
    }
   ],
   "source": [
    "(A5.T*A5).I * A5.T * d5"
   ]
  },
  {
   "cell_type": "markdown",
   "metadata": {},
   "source": [
    "### Question\n",
    "\n",
    "If you replace the equation $x=70$ with the equivalent equation $2x=140$, does the answer change?"
   ]
  },
  {
   "cell_type": "code",
   "execution_count": 91,
   "metadata": {},
   "outputs": [
    {
     "data": {
      "text/plain": [
       "matrix([[1],\n",
       "        [1],\n",
       "        [2],\n",
       "        [1],\n",
       "        [1]])"
      ]
     },
     "execution_count": 91,
     "metadata": {},
     "output_type": "execute_result"
    }
   ],
   "source": [
    "A52 = np.matrix(\"1; 1; 2; 1; 1\"); A52"
   ]
  },
  {
   "cell_type": "code",
   "execution_count": 92,
   "metadata": {},
   "outputs": [
    {
     "data": {
      "text/plain": [
       "matrix([[ 37],\n",
       "        [ 22],\n",
       "        [140],\n",
       "        [ 16],\n",
       "        [ 84]])"
      ]
     },
     "execution_count": 92,
     "metadata": {},
     "output_type": "execute_result"
    }
   ],
   "source": [
    "d52 = np.matrix(\"37; 22; 140; 16; 84\"); d52"
   ]
  },
  {
   "cell_type": "code",
   "execution_count": 93,
   "metadata": {},
   "outputs": [
    {
     "data": {
      "text/plain": [
       "matrix([[54.875]])"
      ]
     },
     "execution_count": 93,
     "metadata": {},
     "output_type": "execute_result"
    }
   ],
   "source": [
    "(A52.T*A52).I * A52.T * d52"
   ]
  },
  {
   "cell_type": "code",
   "execution_count": null,
   "metadata": {},
   "outputs": [],
   "source": []
  },
  {
   "cell_type": "markdown",
   "metadata": {},
   "source": [
    "# Linear Regression\n",
    "\n",
    "Problem: Given $n$ data points $(x_1, y_1), ..., (x_n, y_n)$, find the line $y=mx+b$ that best fits the data.\n",
    "\n",
    "$x$ is the **independent variable** and $y$ is the **dependent variable**.\n"
   ]
  },
  {
   "cell_type": "markdown",
   "metadata": {},
   "source": [
    "Here, $b$ and $m$ are the unknowns, and the $x_i$ and $y_i$ are known data points.  Our goal is to find the best solution to the following overdetermined system of $n$ linear equations in two unknowns ($b$ and $m$):\n",
    "\n",
    "$$\\begin{array}{c}\n",
    "b+x_1m = y_1 \\\\\n",
    "\\vdots \\\\\n",
    "b+x_nm = y_n\\\\\n",
    "\\end{array}\n",
    "$$"
   ]
  },
  {
   "cell_type": "markdown",
   "metadata": {},
   "source": [
    "Or, in matrix form,\n",
    "\n",
    "$$\\begin{array}{ccccc}\n",
    "\\left[ \n",
    "\\begin{array}{cc}\n",
    " 1 &  x_1  \\\\\n",
    " \\vdots &   \\vdots  \\\\\n",
    " 1 &  x_n  \\\\\n",
    "\\end{array}\\right]\n",
    "& \n",
    "\\left[\\begin{array}{c}\n",
    "b \\\\\n",
    "m \\\\\n",
    "\\end{array}\\right]\n",
    "& = &\n",
    "\\left[\\begin{array}{c}\n",
    " y_1\\\\\n",
    " \\vdots \\\\\n",
    " y_n\\\\\n",
    "\\end{array}\n",
    "\\right]\\\\\n",
    "\\\\\n",
    "{A} & {t} &  & {Y}\\\\\n",
    "{\\tiny n\\times 2} & {\\tiny 2 \\times 1} &  & {\\tiny n \\times 1}\\\\\n",
    "\\end{array}\n",
    "$$\n",
    "\n",
    "\n"
   ]
  },
  {
   "cell_type": "markdown",
   "metadata": {},
   "source": [
    "The least squares best fit values of $b$ and $m$ are \n",
    "\n",
    "\n",
    "$$\\left[\\begin{array}{c}\n",
    "b \\\\\n",
    "m \\\\\n",
    "\\end{array}\\right]\n",
    "= \\bar t = (A^TA)^{-1}A^TY.$$\n"
   ]
  },
  {
   "cell_type": "markdown",
   "metadata": {},
   "source": [
    "We know $A^TA$ will be invertible if the columns of $A$ are linearly independent. "
   ]
  },
  {
   "cell_type": "markdown",
   "metadata": {},
   "source": [
    "A set of columns (vectors) is **linearly independent** if and only if there is no one column that can be expressed as a linear combination (sum of scalar multiples) of the other columns.\n",
    "\n",
    "Intuitively, what must be true of the $x_i$ for this to be true?"
   ]
  },
  {
   "cell_type": "markdown",
   "metadata": {},
   "source": [
    "The columns of $A$ are **not** linearly independent if\n",
    "\n",
    "$$\n",
    "\\left[ \n",
    "\\begin{array}{c}\n",
    " x_1  \\\\\n",
    " \\vdots  \\\\\n",
    " x_n  \\\\\n",
    "\\end{array}\\right]\n",
    "=\n",
    "\\beta\n",
    "\\left[ \n",
    "\\begin{array}{c}\n",
    " 1  \\\\\n",
    " \\vdots  \\\\\n",
    " 1  \\\\\n",
    "\\end{array}\\right]\n",
    "=\n",
    "\\left[ \n",
    "\\begin{array}{c}\n",
    " \\beta  \\\\\n",
    " \\vdots  \\\\\n",
    " \\beta  \\\\\n",
    "\\end{array}\\right].\n",
    "$$\n",
    "\n",
    "That is, the $x_i$'s are all equal. It is not surprising that linear regression would not work if all of the values of the independent variable $x$ in the data were the same value. Otherwise, linear regression works."
   ]
  },
  {
   "cell_type": "markdown",
   "metadata": {},
   "source": [
    "## Example 6"
   ]
  },
  {
   "cell_type": "code",
   "execution_count": 94,
   "metadata": {},
   "outputs": [],
   "source": [
    "from sklearn import datasets"
   ]
  },
  {
   "cell_type": "code",
   "execution_count": 95,
   "metadata": {},
   "outputs": [],
   "source": [
    "boston = datasets.load_boston()"
   ]
  },
  {
   "cell_type": "code",
   "execution_count": 96,
   "metadata": {},
   "outputs": [
    {
     "name": "stdout",
     "output_type": "stream",
     "text": [
      "Boston House Prices dataset\n",
      "===========================\n",
      "\n",
      "Notes\n",
      "------\n",
      "Data Set Characteristics:  \n",
      "\n",
      "    :Number of Instances: 506 \n",
      "\n",
      "    :Number of Attributes: 13 numeric/categorical predictive\n",
      "    \n",
      "    :Median Value (attribute 14) is usually the target\n",
      "\n",
      "    :Attribute Information (in order):\n",
      "        - CRIM     per capita crime rate by town\n",
      "        - ZN       proportion of residential land zoned for lots over 25,000 sq.ft.\n",
      "        - INDUS    proportion of non-retail business acres per town\n",
      "        - CHAS     Charles River dummy variable (= 1 if tract bounds river; 0 otherwise)\n",
      "        - NOX      nitric oxides concentration (parts per 10 million)\n",
      "        - RM       average number of rooms per dwelling\n",
      "        - AGE      proportion of owner-occupied units built prior to 1940\n",
      "        - DIS      weighted distances to five Boston employment centres\n",
      "        - RAD      index of accessibility to radial highways\n",
      "        - TAX      full-value property-tax rate per $10,000\n",
      "        - PTRATIO  pupil-teacher ratio by town\n",
      "        - B        1000(Bk - 0.63)^2 where Bk is the proportion of blacks by town\n",
      "        - LSTAT    % lower status of the population\n",
      "        - MEDV     Median value of owner-occupied homes in $1000's\n",
      "\n",
      "    :Missing Attribute Values: None\n",
      "\n",
      "    :Creator: Harrison, D. and Rubinfeld, D.L.\n",
      "\n",
      "This is a copy of UCI ML housing dataset.\n",
      "http://archive.ics.uci.edu/ml/datasets/Housing\n",
      "\n",
      "\n",
      "This dataset was taken from the StatLib library which is maintained at Carnegie Mellon University.\n",
      "\n",
      "The Boston house-price data of Harrison, D. and Rubinfeld, D.L. 'Hedonic\n",
      "prices and the demand for clean air', J. Environ. Economics & Management,\n",
      "vol.5, 81-102, 1978.   Used in Belsley, Kuh & Welsch, 'Regression diagnostics\n",
      "...', Wiley, 1980.   N.B. Various transformations are used in the table on\n",
      "pages 244-261 of the latter.\n",
      "\n",
      "The Boston house-price data has been used in many machine learning papers that address regression\n",
      "problems.   \n",
      "     \n",
      "**References**\n",
      "\n",
      "   - Belsley, Kuh & Welsch, 'Regression diagnostics: Identifying Influential Data and Sources of Collinearity', Wiley, 1980. 244-261.\n",
      "   - Quinlan,R. (1993). Combining Instance-Based and Model-Based Learning. In Proceedings on the Tenth International Conference of Machine Learning, 236-243, University of Massachusetts, Amherst. Morgan Kaufmann.\n",
      "   - many more! (see http://archive.ics.uci.edu/ml/datasets/Housing)\n",
      "\n"
     ]
    }
   ],
   "source": [
    "print(boston.DESCR)"
   ]
  },
  {
   "cell_type": "code",
   "execution_count": 97,
   "metadata": {},
   "outputs": [
    {
     "data": {
      "text/plain": [
       "numpy.ndarray"
      ]
     },
     "execution_count": 97,
     "metadata": {},
     "output_type": "execute_result"
    }
   ],
   "source": [
    "type(boston.data)"
   ]
  },
  {
   "cell_type": "code",
   "execution_count": 98,
   "metadata": {},
   "outputs": [
    {
     "data": {
      "text/plain": [
       "(506, 13)"
      ]
     },
     "execution_count": 98,
     "metadata": {},
     "output_type": "execute_result"
    }
   ],
   "source": [
    "boston.data.shape"
   ]
  },
  {
   "cell_type": "code",
   "execution_count": 99,
   "metadata": {},
   "outputs": [
    {
     "data": {
      "text/plain": [
       "array(['CRIM', 'ZN', 'INDUS', 'CHAS', 'NOX', 'RM', 'AGE', 'DIS', 'RAD',\n",
       "       'TAX', 'PTRATIO', 'B', 'LSTAT'], dtype='<U7')"
      ]
     },
     "execution_count": 99,
     "metadata": {},
     "output_type": "execute_result"
    }
   ],
   "source": [
    "boston.feature_names"
   ]
  },
  {
   "cell_type": "code",
   "execution_count": 100,
   "metadata": {},
   "outputs": [
    {
     "data": {
      "text/plain": [
       "'RM'"
      ]
     },
     "execution_count": 100,
     "metadata": {},
     "output_type": "execute_result"
    }
   ],
   "source": [
    "boston.feature_names[5]"
   ]
  },
  {
   "cell_type": "code",
   "execution_count": 101,
   "metadata": {},
   "outputs": [
    {
     "data": {
      "text/plain": [
       "matrix([[6.575],\n",
       "        [6.421],\n",
       "        [7.185],\n",
       "        [6.998],\n",
       "        [7.147],\n",
       "        [6.43 ],\n",
       "        [6.012],\n",
       "        [6.172],\n",
       "        [5.631],\n",
       "        [6.004]])"
      ]
     },
     "execution_count": 101,
     "metadata": {},
     "output_type": "execute_result"
    }
   ],
   "source": [
    "Xrm = np.asmatrix(boston.data[:,5]).T; Xrm[0:10]"
   ]
  },
  {
   "cell_type": "code",
   "execution_count": 102,
   "metadata": {},
   "outputs": [
    {
     "data": {
      "text/plain": [
       "(506, 1)"
      ]
     },
     "execution_count": 102,
     "metadata": {},
     "output_type": "execute_result"
    }
   ],
   "source": [
    "Xrm.shape"
   ]
  },
  {
   "cell_type": "code",
   "execution_count": 103,
   "metadata": {},
   "outputs": [
    {
     "data": {
      "text/plain": [
       "matrix([[1.   , 6.575],\n",
       "        [1.   , 6.421],\n",
       "        [1.   , 7.185],\n",
       "        ...,\n",
       "        [1.   , 6.976],\n",
       "        [1.   , 6.794],\n",
       "        [1.   , 6.03 ]])"
      ]
     },
     "execution_count": 103,
     "metadata": {},
     "output_type": "execute_result"
    }
   ],
   "source": [
    "A6 = np.hstack( (np.matrix(np.ones(506)).T, Xrm) ); A6"
   ]
  },
  {
   "cell_type": "code",
   "execution_count": 104,
   "metadata": {},
   "outputs": [
    {
     "data": {
      "text/plain": [
       "matrix([[24. ],\n",
       "        [21.6],\n",
       "        [34.7],\n",
       "        [33.4],\n",
       "        [36.2],\n",
       "        [28.7],\n",
       "        [22.9],\n",
       "        [27.1],\n",
       "        [16.5],\n",
       "        [18.9]])"
      ]
     },
     "execution_count": 104,
     "metadata": {},
     "output_type": "execute_result"
    }
   ],
   "source": [
    "Y = np.asmatrix(boston.target).T; Y[0:10]"
   ]
  },
  {
   "cell_type": "code",
   "execution_count": 105,
   "metadata": {},
   "outputs": [
    {
     "data": {
      "text/plain": [
       "matrix([[-34.67062078],\n",
       "        [  9.10210898]])"
      ]
     },
     "execution_count": 105,
     "metadata": {},
     "output_type": "execute_result"
    }
   ],
   "source": [
    "(A6.T*A6).I * A6.T * Y"
   ]
  },
  {
   "cell_type": "code",
   "execution_count": 106,
   "metadata": {},
   "outputs": [
    {
     "data": {
      "text/plain": [
       "LinregressResult(slope=9.102108981180306, intercept=-34.67062077643854, rvalue=0.695359947071539, pvalue=2.487228871008377e-74, stderr=0.41902656012134054)"
      ]
     },
     "execution_count": 106,
     "metadata": {},
     "output_type": "execute_result"
    }
   ],
   "source": [
    "scipy.stats.linregress(boston.data[:,5], boston.target)"
   ]
  },
  {
   "cell_type": "code",
   "execution_count": 107,
   "metadata": {},
   "outputs": [
    {
     "data": {
      "image/png": "[encoded data removed]",
      "text/plain": [
       "<Figure size 720x432 with 1 Axes>"
      ]
     },
     "metadata": {
      "needs_background": "light"
     },
     "output_type": "display_data"
    }
   ],
   "source": [
    "import matplotlib.pyplot as plt\n",
    "plt.figure(figsize=(10,6))\n",
    "plt.rcParams.update({'font.size': 15})\n",
    "plt.suptitle('Boston Housing Prices Data', fontsize=20, fontweight='bold')\n",
    "plt.xlabel('Number of Rooms (RM)')\n",
    "plt.ylabel(\"Home Median Value ($000) (MEDV)\")\n",
    "plt.plot(Xrm, Y, 'g.')\n",
    "x = np.array([4.3, 9.1])\n",
    "plt.plot(x, 9.1021*x - 34.6706, 'r-')\n",
    "plt.show()"
   ]
  },
  {
   "cell_type": "markdown",
   "metadata": {},
   "source": [
    "\\[SL (11/10/2018): It was pointed out to me after the talk that the median house price is actually in multiples of \\\\$10,000,\n",
    "not $1,000 as indicated in the DESCR text.\\]"
   ]
  },
  {
   "cell_type": "code",
   "execution_count": null,
   "metadata": {},
   "outputs": [],
   "source": []
  },
  {
   "cell_type": "markdown",
   "metadata": {},
   "source": [
    "## Example 7—Multiple Regression"
   ]
  },
  {
   "cell_type": "markdown",
   "metadata": {},
   "source": [
    "Let's add CRIM (crime rate) as a second independent variable."
   ]
  },
  {
   "cell_type": "code",
   "execution_count": 108,
   "metadata": {},
   "outputs": [
    {
     "data": {
      "text/plain": [
       "'CRIM'"
      ]
     },
     "execution_count": 108,
     "metadata": {},
     "output_type": "execute_result"
    }
   ],
   "source": [
    "boston.feature_names[0]"
   ]
  },
  {
   "cell_type": "code",
   "execution_count": 109,
   "metadata": {},
   "outputs": [
    {
     "data": {
      "text/plain": [
       "matrix([[0.00632],\n",
       "        [0.02731],\n",
       "        [0.02729],\n",
       "        [0.03237],\n",
       "        [0.06905],\n",
       "        [0.02985],\n",
       "        [0.08829],\n",
       "        [0.14455],\n",
       "        [0.21124],\n",
       "        [0.17004]])"
      ]
     },
     "execution_count": 109,
     "metadata": {},
     "output_type": "execute_result"
    }
   ],
   "source": [
    "Xcrim = np.asmatrix(boston.data[:,0]).T; Xcrim[0:10]"
   ]
  },
  {
   "cell_type": "code",
   "execution_count": 110,
   "metadata": {},
   "outputs": [
    {
     "data": {
      "text/plain": [
       "matrix([[1.0000e+00, 6.5750e+00, 6.3200e-03],\n",
       "        [1.0000e+00, 6.4210e+00, 2.7310e-02],\n",
       "        [1.0000e+00, 7.1850e+00, 2.7290e-02],\n",
       "        ...,\n",
       "        [1.0000e+00, 6.9760e+00, 6.0760e-02],\n",
       "        [1.0000e+00, 6.7940e+00, 1.0959e-01],\n",
       "        [1.0000e+00, 6.0300e+00, 4.7410e-02]])"
      ]
     },
     "execution_count": 110,
     "metadata": {},
     "output_type": "execute_result"
    }
   ],
   "source": [
    "A7 = np.hstack( (A6,Xcrim) ); A7"
   ]
  },
  {
   "cell_type": "code",
   "execution_count": 111,
   "metadata": {},
   "outputs": [
    {
     "data": {
      "text/plain": [
       "(506, 3)"
      ]
     },
     "execution_count": 111,
     "metadata": {},
     "output_type": "execute_result"
    }
   ],
   "source": [
    "A7.shape"
   ]
  },
  {
   "cell_type": "code",
   "execution_count": 112,
   "metadata": {},
   "outputs": [
    {
     "data": {
      "text/plain": [
       "3"
      ]
     },
     "execution_count": 112,
     "metadata": {},
     "output_type": "execute_result"
    }
   ],
   "source": [
    "np.linalg.matrix_rank(A7)"
   ]
  },
  {
   "cell_type": "code",
   "execution_count": 113,
   "metadata": {},
   "outputs": [
    {
     "data": {
      "text/plain": [
       "4480321370.151303"
      ]
     },
     "execution_count": 113,
     "metadata": {},
     "output_type": "execute_result"
    }
   ],
   "source": [
    "np.linalg.det(A7.T*A7)"
   ]
  },
  {
   "cell_type": "code",
   "execution_count": 114,
   "metadata": {},
   "outputs": [
    {
     "data": {
      "text/plain": [
       "matrix([[-29.30168135],\n",
       "        [  8.3975317 ],\n",
       "        [ -0.2618229 ]])"
      ]
     },
     "execution_count": 114,
     "metadata": {},
     "output_type": "execute_result"
    }
   ],
   "source": [
    "(A7.T*A7).I * A7.T * Y"
   ]
  },
  {
   "cell_type": "code",
   "execution_count": 115,
   "metadata": {},
   "outputs": [],
   "source": [
    "from sklearn import linear_model"
   ]
  },
  {
   "cell_type": "code",
   "execution_count": 116,
   "metadata": {},
   "outputs": [
    {
     "data": {
      "text/plain": [
       "matrix([[6.5750e+00, 6.3200e-03],\n",
       "        [6.4210e+00, 2.7310e-02],\n",
       "        [7.1850e+00, 2.7290e-02],\n",
       "        ...,\n",
       "        [6.9760e+00, 6.0760e-02],\n",
       "        [6.7940e+00, 1.0959e-01],\n",
       "        [6.0300e+00, 4.7410e-02]])"
      ]
     },
     "execution_count": 116,
     "metadata": {},
     "output_type": "execute_result"
    }
   ],
   "source": [
    "XX = np.hstack( (Xrm,Xcrim) ); XX"
   ]
  },
  {
   "cell_type": "code",
   "execution_count": 117,
   "metadata": {},
   "outputs": [
    {
     "data": {
      "text/plain": [
       "(506, 2)"
      ]
     },
     "execution_count": 117,
     "metadata": {},
     "output_type": "execute_result"
    }
   ],
   "source": [
    "XX.shape"
   ]
  },
  {
   "cell_type": "code",
   "execution_count": 118,
   "metadata": {},
   "outputs": [],
   "source": [
    "regr = linear_model.LinearRegression()"
   ]
  },
  {
   "cell_type": "code",
   "execution_count": 119,
   "metadata": {},
   "outputs": [
    {
     "data": {
      "text/plain": [
       "LinearRegression(copy_X=True, fit_intercept=True, n_jobs=1, normalize=False)"
      ]
     },
     "execution_count": 119,
     "metadata": {},
     "output_type": "execute_result"
    }
   ],
   "source": [
    "regr.fit(XX, Y)"
   ]
  },
  {
   "cell_type": "code",
   "execution_count": 120,
   "metadata": {},
   "outputs": [
    {
     "data": {
      "text/plain": [
       "array([-29.30168135])"
      ]
     },
     "execution_count": 120,
     "metadata": {},
     "output_type": "execute_result"
    }
   ],
   "source": [
    "regr.intercept_"
   ]
  },
  {
   "cell_type": "code",
   "execution_count": 121,
   "metadata": {},
   "outputs": [
    {
     "data": {
      "text/plain": [
       "array([[ 8.3975317, -0.2618229]])"
      ]
     },
     "execution_count": 121,
     "metadata": {},
     "output_type": "execute_result"
    }
   ],
   "source": [
    "regr.coef_"
   ]
  },
  {
   "cell_type": "code",
   "execution_count": null,
   "metadata": {},
   "outputs": [],
   "source": []
  },
  {
   "cell_type": "markdown",
   "metadata": {},
   "source": [
    "<center><H1>END</H1></center>"
   ]
  },
  {
   "cell_type": "code",
   "execution_count": null,
   "metadata": {},
   "outputs": [],
   "source": []
  },
  {
   "cell_type": "code",
   "execution_count": null,
   "metadata": {},
   "outputs": [],
   "source": []
  },
  {
   "cell_type": "markdown",
   "metadata": {},
   "source": [
    "# Appendix: Additional Material"
   ]
  },
  {
   "cell_type": "markdown",
   "metadata": {},
   "source": [
    "\\[SL (11/10/2018): The following is some additional material we did not\n",
    "discuss during my talk today.\\]"
   ]
  },
  {
   "cell_type": "code",
   "execution_count": null,
   "metadata": {},
   "outputs": [],
   "source": []
  },
  {
   "cell_type": "markdown",
   "metadata": {},
   "source": [
    "## Appendix 1: Calculating Determinant of Example 1"
   ]
  },
  {
   "cell_type": "markdown",
   "metadata": {},
   "source": [
    "In Example 1, we performed Gaussian elimination on the following matrix $A$. This essentially provided us with $A^{-1}$. It also provides an easy way to calculate the determinant of $A$.\n",
    "\n",
    "$$A=\n",
    "\\left[ \n",
    "\\begin{array}{rrr}\n",
    " 2 & 2 &  4 \\\\\n",
    " 0 & 1 & -5 \\\\\n",
    " 0 & 3 &  4 \\\\\n",
    "\\end{array}\\right]\n",
    "$$\n"
   ]
  },
  {
   "cell_type": "code",
   "execution_count": null,
   "metadata": {},
   "outputs": [],
   "source": []
  },
  {
   "cell_type": "markdown",
   "metadata": {},
   "source": [
    "First we note that the determinant respects multiplication and inverses:\n",
    "\n",
    "$$ \\det A \\cdot \\det A^{-1} = \\det (AA^{-1}) = \\det I = 1 \\implies \\det A = \\frac{1}{\\det A^{-1}}.$$\n",
    "\n",
    "The Gaussian elimination we preformed produced elementary matrices $E_1$, $E_2$, ..., $E_6$ such that $A^{-1} = E_6 E_5 E_4 E_3 E_2 E_1$.\n",
    "\n",
    "Thus,\n",
    "\n",
    "\\begin{eqnarray*}\n",
    "\\det A  &=& \\left[ \\det A^{-1} \\right]^{-1} \\\\\n",
    "        &=& \\left[ \\det ( E_6 E_5 E_4 E_3 E_2 E_1) \\right]^{-1} \\\\\n",
    "        &=& \\left( \\det E_6 \\cdot \\det E_5 \\cdot \\det E_4 \\cdot \\det E_3 \\cdot \\det E_2 \\cdot \\det E_1 \\right)^{-1} \\\\\n",
    "\\end{eqnarray*}\n",
    "\n",
    "\n"
   ]
  },
  {
   "cell_type": "code",
   "execution_count": null,
   "metadata": {},
   "outputs": [],
   "source": []
  },
  {
   "cell_type": "markdown",
   "metadata": {},
   "source": [
    "We now need only figure out the determinants of the individual elementary matrices."
   ]
  },
  {
   "cell_type": "code",
   "execution_count": null,
   "metadata": {},
   "outputs": [],
   "source": [
    "E1 = scalerow(0, .5); E1"
   ]
  },
  {
   "cell_type": "code",
   "execution_count": null,
   "metadata": {},
   "outputs": [],
   "source": [
    "E2 = addtorow(2, -3, 1); E2"
   ]
  },
  {
   "cell_type": "code",
   "execution_count": null,
   "metadata": {},
   "outputs": [],
   "source": [
    "E3 = addtorow(0, -1, 1); E3"
   ]
  },
  {
   "cell_type": "code",
   "execution_count": null,
   "metadata": {},
   "outputs": [],
   "source": [
    "E4 = scalerow(2, 1/19); E4"
   ]
  },
  {
   "cell_type": "code",
   "execution_count": null,
   "metadata": {},
   "outputs": [],
   "source": [
    "E5 = addtorow(1, 5, 2); E5"
   ]
  },
  {
   "cell_type": "code",
   "execution_count": null,
   "metadata": {},
   "outputs": [],
   "source": [
    "E6 = addtorow(0, -7, 2); E6"
   ]
  },
  {
   "cell_type": "markdown",
   "metadata": {},
   "source": [
    "Therefore,\n",
    "\n",
    "\\begin{eqnarray*}\n",
    "\\det A  \n",
    "        &=& \\left( \\det E_6 \\cdot \\det E_5 \\cdot \\det E_4 \\cdot \\det E_3 \\cdot \\det E_2 \\cdot \\det E_1 \\right)^{-1} \\\\\n",
    "        &=& \\left( 1 \\cdot 1 \\cdot \\textstyle \\frac{1}{19} \\cdot 1 \\cdot 1 \\cdot \\frac{1}{2} \\right)^{-1} \\\\\n",
    "        &=& \\left( \\frac{1}{38} \\right)^{-1} \\\\\n",
    "        &=& 38. \\\\\n",
    "\\end{eqnarray*}\n",
    "\n",
    "\n"
   ]
  },
  {
   "cell_type": "code",
   "execution_count": null,
   "metadata": {},
   "outputs": [],
   "source": [
    "np.linalg.det(A)"
   ]
  },
  {
   "cell_type": "code",
   "execution_count": null,
   "metadata": {},
   "outputs": [],
   "source": []
  },
  {
   "cell_type": "markdown",
   "metadata": {},
   "source": [
    "## Appendix 2: Calculating Determinants Recursively"
   ]
  },
  {
   "cell_type": "code",
   "execution_count": null,
   "metadata": {},
   "outputs": [],
   "source": [
    "def redet(A):\n",
    "    \"\"\"Determinant of matrix A.\n",
    "    \n",
    "    Recursively calculates determinant, using method typically followed \"by hand.\"\n",
    "    \"\"\"\n",
    "    if A.shape == (1,1):\n",
    "        return A[0,0]\n",
    "    else:\n",
    "        return sum( (-1)**j * A[0,j] * redet(np.hstack((A[1:,:j], A[1:,j+1:])))\n",
    "                   for j in range(0, A.shape[1]) \n",
    "                  )"
   ]
  },
  {
   "cell_type": "code",
   "execution_count": null,
   "metadata": {},
   "outputs": [],
   "source": [
    "redet(A)"
   ]
  },
  {
   "cell_type": "code",
   "execution_count": null,
   "metadata": {},
   "outputs": [],
   "source": [
    "np.linalg.det(A)"
   ]
  },
  {
   "cell_type": "code",
   "execution_count": null,
   "metadata": {},
   "outputs": [],
   "source": [
    "redet(A2)"
   ]
  },
  {
   "cell_type": "code",
   "execution_count": null,
   "metadata": {},
   "outputs": [],
   "source": [
    "np.linalg.det(A2)"
   ]
  },
  {
   "cell_type": "code",
   "execution_count": null,
   "metadata": {},
   "outputs": [],
   "source": [
    "redet(A3)"
   ]
  },
  {
   "cell_type": "code",
   "execution_count": null,
   "metadata": {},
   "outputs": [],
   "source": [
    "np.linalg.det(A3)"
   ]
  },
  {
   "cell_type": "code",
   "execution_count": null,
   "metadata": {},
   "outputs": [],
   "source": []
  },
  {
   "cell_type": "markdown",
   "metadata": {},
   "source": [
    "## Appendix 3: Deriving the Formulas for Linear Regression"
   ]
  },
  {
   "cell_type": "markdown",
   "metadata": {},
   "source": [
    "Problem: Given $n$ data points $(x_1, y_1), ..., (x_n, y_n)$, find the line $y=mx+b$ that best fits the data.\n"
   ]
  },
  {
   "cell_type": "markdown",
   "metadata": {},
   "source": [
    "As noted previously, the least squares best fit values of $b$ and $m$ are given by \n",
    "\n",
    "$$\\left[\\begin{array}{c}\n",
    "b \\\\\n",
    "m \\\\\n",
    "\\end{array}\\right]\n",
    "= (A^TA)^{-1}A^TY.$$\n"
   ]
  },
  {
   "cell_type": "markdown",
   "metadata": {},
   "source": [
    "Derivation of direct formulas of slope and intercept: \n",
    "\n",
    "$$\\begin{array}{ccl}\n",
    "A^TA & = & \\left[ \n",
    "\\begin{array}{ccc}\n",
    " 1 & \\cdots & 1  \\\\\n",
    " x_1 & \\cdots & x_n  \\\\\n",
    "\\end{array}\\right]\n",
    "\\left[ \n",
    "\\begin{array}{cc}\n",
    " 1 &  x_1  \\\\\n",
    " \\vdots &   \\vdots  \\\\\n",
    " 1 &  x_n  \\\\\n",
    "\\end{array}\\right] \\\\\n",
    "& = &\n",
    "\\left[\\begin{array}{cc}\n",
    " n &  \\displaystyle \\sum_{i=1}^n x_i  \\\\\n",
    " \\displaystyle\\sum_{i=1}^n x_i &  \\displaystyle\\sum_{i=1}^n x_i^2  \\\\\n",
    "\\end{array}\\right] \\\\\n",
    "\\\\\n",
    "\\det (A^TA) & = & \n",
    "n\\sum x_i^2 -\\left(\\sum x_i\\right)^2 \\\\\n",
    "\\\\\n",
    "(A^TA)^{-1} & = & \n",
    "\\frac{1}{n\\sum x_i^2 -\\left(\\sum x_i\\right)^2}\n",
    "\\left[\\begin{array}{cc}\n",
    " \\sum x_i^2 &  -\\sum x_i  \\\\\n",
    " -\\sum x_i &  n  \\\\\n",
    "\\end{array}\\right] \\\\\n",
    "\\\\\n",
    "A^TY & = & \\left[ \n",
    "\\begin{array}{ccc}\n",
    " 1 & \\cdots & 1  \\\\\n",
    " x_1 & \\cdots & x_n  \\\\\n",
    "\\end{array}\\right]\n",
    "\\left[ \n",
    "\\begin{array}{c}\n",
    " y_1  \\\\\n",
    " \\vdots  \\\\\n",
    " y_n  \\\\\n",
    "\\end{array}\\right] \\\\\n",
    "& = &\n",
    "\\left[\\begin{array}{c}\n",
    " \\sum y_i  \\\\\n",
    " \\sum x_i y_i \\\\\n",
    "\\end{array}\\right] \\\\\n",
    "\\\\\n",
    "\\left[\\begin{array}{c}\n",
    "b \\\\\n",
    "m \\\\\n",
    "\\end{array}\\right]\n",
    "= (A^TA)^{-1}A^TY & = & \n",
    "\\frac{1}{n\\sum x_i^2 -\\left(\\sum x_i\\right)^2}\n",
    "\\left[\\begin{array}{c}\n",
    " \\left(\\sum x_i^2\\right)\\left(\\sum y_i\\right) \n",
    " - \\left(\\sum x_i\\right)\\left(\\sum x_iy_i\\right)  \\\\\n",
    " n\\left(\\sum x_iy_i\\right)  \n",
    " -\\left(\\sum x_i\\right)\\left(\\sum y_i\\right) \\\\\n",
    "\\end{array}\\right] \\\\\n",
    "\\\\\n",
    "\\end{array} $$"
   ]
  },
  {
   "cell_type": "markdown",
   "metadata": {},
   "source": [
    "Thus, the intercept and slope are given by the following formulas:\n",
    "\n",
    "$$\\begin{array}{lccl}\n",
    "\\text{Intercept:} & b & = &\n",
    "\\frac{ \\left(\\sum x_i^2\\right)\\left(\\sum y_i\\right) \n",
    " - \\left(\\sum x_i\\right)\\left(\\sum x_iy_i\\right) }{n\\sum x_i^2 -\\left(\\sum x_i\\right)^2}\n",
    "\\\\\n",
    "\\text{Slope:} & m & = &\n",
    "\\frac{n\\left(\\sum x_iy_i\\right)  \n",
    " -\\left(\\sum x_i\\right)\\left(\\sum y_i\\right) }{n\\sum x_i^2 -\\left(\\sum x_i\\right)^2}\n",
    "\\\\\n",
    "\\end{array}$$\n"
   ]
  },
  {
   "cell_type": "code",
   "execution_count": null,
   "metadata": {},
   "outputs": [],
   "source": []
  },
  {
   "cell_type": "markdown",
   "metadata": {},
   "source": [
    "## Appendix 4: Condition Number"
   ]
  },
  {
   "cell_type": "markdown",
   "metadata": {},
   "source": [
    "A square matrix is invertible (nonsingular) if and only if its **condition number** is finite."
   ]
  },
  {
   "cell_type": "markdown",
   "metadata": {},
   "source": [
    "Generally used in a numerical analysis context."
   ]
  },
  {
   "cell_type": "code",
   "execution_count": null,
   "metadata": {},
   "outputs": [],
   "source": [
    "np.linalg.cond(A3)"
   ]
  },
  {
   "cell_type": "markdown",
   "metadata": {},
   "source": [
    "Very large (albeit technically finite); suggests A3 may be singular."
   ]
  },
  {
   "cell_type": "code",
   "execution_count": null,
   "metadata": {},
   "outputs": [],
   "source": [
    "np.linalg.cond(A2)"
   ]
  },
  {
   "cell_type": "code",
   "execution_count": null,
   "metadata": {},
   "outputs": [],
   "source": []
  }
 ],
 "metadata": {
  "kernelspec": {
   "display_name": "Python 3",
   "language": "python",
   "name": "python3"
  },
  "language_info": {
   "codemirror_mode": {
    "name": "ipython",
    "version": 3
   },
   "file_extension": ".py",
   "mimetype": "text/x-python",
   "name": "python",
   "nbconvert_exporter": "python",
   "pygments_lexer": "ipython3",
   "version": "3.7.0"
  }
 },
 "nbformat": 4,
 "nbformat_minor": 2
}
